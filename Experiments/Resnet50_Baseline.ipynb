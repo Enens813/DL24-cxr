{
  "nbformat": 4,
  "nbformat_minor": 0,
  "metadata": {
    "colab": {
      "provenance": [],
      "machine_shape": "hm",
      "gpuType": "L4"
    },
    "kernelspec": {
      "name": "python3",
      "display_name": "Python 3"
    },
    "language_info": {
      "name": "python"
    },
    "accelerator": "GPU"
  },
  "cells": [
    {
      "cell_type": "markdown",
      "source": [
        "# RESNET50 (BASELINE)"
      ],
      "metadata": {
        "id": "dE31E6TMJ99Z"
      }
    },
    {
      "cell_type": "code",
      "execution_count": 1,
      "metadata": {
        "id": "nR1tqwOVU2jr"
      },
      "outputs": [],
      "source": [
        "import os\n",
        "import pandas as pd\n",
        "from torch.utils.data import Dataset, DataLoader\n",
        "from PIL import Image\n",
        "import torch\n",
        "from torchvision import transforms\n",
        "from tqdm import tqdm\n",
        "import torch\n",
        "from torchvision import transforms\n",
        "import pandas as pd\n",
        "import os\n",
        "from PIL import Image\n",
        "import random\n"
      ]
    },
    {
      "cell_type": "code",
      "source": [
        "import torch\n",
        "import torch.nn as nn\n",
        "import torch.optim as optim\n",
        "from torch.utils.data import DataLoader, Dataset, ConcatDataset\n",
        "from torchvision import transforms, datasets, models\n",
        "import urllib.request\n",
        "import tarfile\n",
        "import os\n",
        "import pandas as pd\n",
        "from PIL import Image, ImageFilter\n",
        "from tqdm import tqdm\n",
        "\n",
        "import os\n",
        "import urllib.request\n",
        "import threading"
      ],
      "metadata": {
        "id": "sbbsoxWom1nN"
      },
      "execution_count": 2,
      "outputs": []
    },
    {
      "cell_type": "markdown",
      "source": [],
      "metadata": {
        "id": "D2s5iD9dm0tP"
      }
    },
    {
      "cell_type": "markdown",
      "source": [
        "# Download Files"
      ],
      "metadata": {
        "id": "IxWhteskKB5E"
      }
    },
    {
      "cell_type": "code",
      "source": [
        "import torch\n",
        "import torch.nn as nn\n",
        "import torch.optim as optim\n",
        "from torch.utils.data import DataLoader, Dataset, ConcatDataset\n",
        "from torchvision import transforms, datasets, models\n",
        "import urllib.request\n",
        "import tarfile\n",
        "import os\n",
        "import pandas as pd\n",
        "from PIL import Image, ImageFilter\n",
        "from tqdm import tqdm\n",
        "\n",
        "import os\n",
        "import urllib.request\n",
        "import threading\n",
        "\n",
        "# 다운로드 받을 경로 설정 (예: 현재 디렉터리 또는 지정된 경로)\n",
        "download_path = 'DATA'  # 원하는 경로로 변경 가능\n",
        "\n",
        "# 다운로드 경로가 존재하지 않으면 생성\n",
        "if not os.path.exists(download_path):\n",
        "    os.makedirs(download_path)\n",
        "\n",
        "# 파일 URL 리스트\n",
        "links = [\n",
        "    'https://nihcc.box.com/shared/static/vfk49d74nhbxq3nqjg0900w5nvkorp5c.gz',\n",
        "    'https://nihcc.box.com/shared/static/i28rlmbvmfjbl8p2n3ril0pptcmcu9d1.gz',\n",
        "    'https://nihcc.box.com/shared/static/f1t00wrtdk94satdfb9olcolqx20z2jp.gz',\n",
        "    'https://nihcc.box.com/shared/static/0aowwzs5lhjrceb3qp67ahp0rd1l1etg.gz',\n",
        "    'https://nihcc.box.com/shared/static/v5e3goj22zr6h8tzualxfsqlqaygfbsn.gz',\n",
        "    'https://nihcc.box.com/shared/static/asi7ikud9jwnkrnkj99jnpfkjdes7l6l.gz',\n",
        "    'https://nihcc.box.com/shared/static/jn1b4mw4n6lnh74ovmcjb8y48h8xj07n.gz',\n",
        "    'https://nihcc.box.com/shared/static/tvpxmn7qyrgl0w8wfh9kqfjskv6nmm1j.gz',\n",
        "    'https://nihcc.box.com/shared/static/upyy3ml7qdumlgk2rfcvlb9k6gvqq2pj.gz',\n",
        "    'https://nihcc.box.com/shared/static/l6nilvfa9cg3s28tqv1qc1olm3gnz54p.gz',\n",
        "    'https://nihcc.box.com/shared/static/hhq8fkdgvcari67vfhs7ppg2w6ni4jze.gz',\n",
        "    'https://nihcc.box.com/shared/static/ioqwiy20ihqwyr8pf4c24eazhh281pbu.gz'\n",
        "]\n",
        "\n",
        "# 파일 다운로드 함수\n",
        "def download_file(url, download_dir, idx):\n",
        "    fn = os.path.join(download_dir, f'images_{idx+1:02d}.tar.gz')\n",
        "    print(f'Downloading {fn}...')\n",
        "    urllib.request.urlretrieve(url, fn)  # 파일 다운로드\n",
        "    print(f'{fn} download complete.')\n",
        "\n",
        "# 다운로드 스레드 생성\n",
        "threads = []\n",
        "for idx, link in enumerate(links):\n",
        "    thread = threading.Thread(target=download_file, args=(link, download_path, idx))\n",
        "    threads.append(thread)\n",
        "    thread.start()\n",
        "\n",
        "# 모든 스레드가 끝날 때까지 기다리기\n",
        "for thread in threads:\n",
        "    thread.join()\n",
        "\n",
        "print(\"All downloads complete. Files are saved in\", download_path)\n",
        "\n",
        "import os\n",
        "import tarfile\n",
        "import shutil\n",
        "\n",
        "# tar 파일들이 저장된 경로 (다운로드 경로와 동일하게 설정)\n",
        "tar_dir = 'DATA'  # 원본 tar 파일들이 저장된 경로\n",
        "extract_dir = 'DATA'  # 압축 해제할 경로\n",
        "\n",
        "# Loop through each downloaded tar file and extract it\n",
        "for idx in range(1, len(links) + 1):\n",
        "    tar_path = os.path.join(tar_dir, f'images_{idx:02d}.tar.gz')\n",
        "\n",
        "    # Extract the tar file into the specified directory\n",
        "    print(f'Extracting {tar_path} to {extract_dir}...')\n",
        "    with tarfile.open(tar_path, 'r:gz') as tar:\n",
        "        tar.extractall(path=extract_dir)\n",
        "\n",
        "    # Delete the original tar.gz file after extraction\n",
        "    os.remove(tar_path)\n",
        "    print(f'Deleted {tar_path} after extraction.')\n",
        "\n",
        "print(\"Extraction complete.\")\n",
        "\n"
      ],
      "metadata": {
        "colab": {
          "base_uri": "https://localhost:8080/"
        },
        "id": "UJvHtMmT24D2",
        "outputId": "c1b83232-6655-47d9-b2f9-132cfe50280c"
      },
      "execution_count": 3,
      "outputs": [
        {
          "output_type": "stream",
          "name": "stdout",
          "text": [
            "Downloading DATA/images_01.tar.gz...\n",
            "Downloading DATA/images_02.tar.gz...\n",
            "Downloading DATA/images_03.tar.gz...\n",
            "Downloading DATA/images_04.tar.gz...\n",
            "Downloading DATA/images_05.tar.gz...\n",
            "Downloading DATA/images_06.tar.gz...\n",
            "Downloading DATA/images_07.tar.gz...\n",
            "Downloading DATA/images_08.tar.gz...\n",
            "Downloading DATA/images_09.tar.gz...\n",
            "Downloading DATA/images_10.tar.gz...\n",
            "Downloading DATA/images_11.tar.gz...\n",
            "Downloading DATA/images_12.tar.gz...\n",
            "DATA/images_01.tar.gz download complete.\n",
            "DATA/images_12.tar.gz download complete.\n",
            "DATA/images_05.tar.gz download complete.\n",
            "DATA/images_02.tar.gz download complete.\n",
            "DATA/images_03.tar.gz download complete.\n",
            "DATA/images_06.tar.gz download complete.\n",
            "DATA/images_08.tar.gz download complete.\n",
            "DATA/images_09.tar.gz download complete.\n",
            "DATA/images_07.tar.gz download complete.\n",
            "DATA/images_11.tar.gz download complete.\n",
            "DATA/images_10.tar.gz download complete.\n",
            "DATA/images_04.tar.gz download complete.\n",
            "All downloads complete. Files are saved in DATA\n",
            "Extracting DATA/images_01.tar.gz to DATA...\n",
            "Deleted DATA/images_01.tar.gz after extraction.\n",
            "Extracting DATA/images_02.tar.gz to DATA...\n",
            "Deleted DATA/images_02.tar.gz after extraction.\n",
            "Extracting DATA/images_03.tar.gz to DATA...\n",
            "Deleted DATA/images_03.tar.gz after extraction.\n",
            "Extracting DATA/images_04.tar.gz to DATA...\n",
            "Deleted DATA/images_04.tar.gz after extraction.\n",
            "Extracting DATA/images_05.tar.gz to DATA...\n",
            "Deleted DATA/images_05.tar.gz after extraction.\n",
            "Extracting DATA/images_06.tar.gz to DATA...\n",
            "Deleted DATA/images_06.tar.gz after extraction.\n",
            "Extracting DATA/images_07.tar.gz to DATA...\n",
            "Deleted DATA/images_07.tar.gz after extraction.\n",
            "Extracting DATA/images_08.tar.gz to DATA...\n",
            "Deleted DATA/images_08.tar.gz after extraction.\n",
            "Extracting DATA/images_09.tar.gz to DATA...\n",
            "Deleted DATA/images_09.tar.gz after extraction.\n",
            "Extracting DATA/images_10.tar.gz to DATA...\n",
            "Deleted DATA/images_10.tar.gz after extraction.\n",
            "Extracting DATA/images_11.tar.gz to DATA...\n",
            "Deleted DATA/images_11.tar.gz after extraction.\n",
            "Extracting DATA/images_12.tar.gz to DATA...\n",
            "Deleted DATA/images_12.tar.gz after extraction.\n",
            "Extraction complete.\n"
          ]
        }
      ]
    },
    {
      "cell_type": "code",
      "source": [
        "import pandas as pd\n",
        "from sklearn.model_selection import train_test_split\n",
        "from torch.utils.data import DataLoader, Dataset\n",
        "import random\n",
        "import os\n",
        "from torchvision import transforms\n",
        "from PIL import Image\n",
        "import torch\n",
        "from sklearn.model_selection import StratifiedShuffleSplit, GroupShuffleSplit\n",
        "import pandas as pd\n",
        "\n",
        "\n",
        "csv_file_path = './Data_Entry_2017_v2020.csv'\n",
        "\n",
        "df = pd.read_csv(csv_file_path)\n",
        "\n",
        "class_names = [\n",
        "    'Atelectasis',  'Consolidation',  'Effusion',\n",
        "                'Infiltration', 'Mass', 'Nodule','Pneumothorax',\n",
        "                'Pleural_Thickening',\n",
        "                   'Hernia',\n",
        "               'Pneumonia',\n",
        "               'Fibrosis',\n",
        "                'Edema',\n",
        "               'Cardiomegaly',\n",
        "               'Emphysema'\n",
        "            ]\n",
        "\n",
        "def get_labels(diseases):\n",
        "    labels = torch.zeros(len(class_names))\n",
        "    if diseases != 'No Finding':\n",
        "        for label_name in diseases.split('|'):\n",
        "            if label_name in class_names:\n",
        "                labels[class_names.index(label_name)] = 1\n",
        "    return labels\n",
        "\n",
        "class CXR14dataset(Dataset):\n",
        "    def __init__(self, img_dirs, df, augment=None):\n",
        "        self.img_dirs = img_dirs\n",
        "        self.df = df\n",
        "        self.transform = transforms.Compose([\n",
        "            transforms.Resize((224, 224)),\n",
        "            transforms.ToTensor(),\n",
        "            transforms.Normalize([0.5123], [0.2307])\n",
        "        ])\n",
        "        self.augment = augment\n",
        "\n",
        "    def __len__(self):\n",
        "        return len(self.df)\n",
        "\n",
        "    def __getitem__(self, idx):\n",
        "        img_name = self.df.iloc[idx, 0]\n",
        "        diseases = self.df.iloc[idx, 1]\n",
        "        label = get_labels(diseases)\n",
        "\n",
        "        image = None\n",
        "        for img_dir in self.img_dirs:\n",
        "            img_path = os.path.join(img_dir, img_name)\n",
        "            if os.path.exists(img_path):\n",
        "                image = Image.open(img_path).convert(\"RGB\")\n",
        "                break\n",
        "\n",
        "        if image is None:\n",
        "            raise FileNotFoundError(f\"Image {img_name} not found in provided directories.\")\n",
        "\n",
        "        if self.augment:\n",
        "            image = self.augment(image)\n",
        "        else:\n",
        "            image = self.transform(image)\n",
        "\n",
        "        return image, label\n",
        "\n",
        "img_dirs = ['./DATA/images']\n",
        "\n",
        "# 데이터셋을 train, validation, test로 나누기 (Stratified Split을 사용하여 클래스 비율 유지)\n",
        "# 모든 질병 컬럼을 하나의 벡터로 결합하여 분할 (멀티 라벨 문제에 대한 처리)\n",
        "df['combined_labels'] = df['Finding Labels'].apply(\n",
        "    lambda x: '|'.join(sorted([label for label in x.split('|') if label in class_names]))\n",
        ")\n",
        "\n",
        "sampling_ratios = {\n",
        "    'Atelectasis': 1,\n",
        "    'Cardiomegaly': 1,\n",
        "    'Consolidation': 1,\n",
        "    'Edema': 1,\n",
        "    'Effusion': 1,\n",
        "    'Emphysema': 1,\n",
        "    'Fibrosis': 1,\n",
        "    'Hernia': 1,\n",
        "    'Infiltration': 1,\n",
        "    'Mass': 1,\n",
        "    'Nodule': 1,\n",
        "    'Pneumonia': 1,\n",
        "    'Pleural_Thickening': 1,\n",
        "    'Pneumothorax': 1,\n",
        "    'No Finding': 1\n",
        "}\n",
        "\n",
        "def apply_class_sampling(df, class_names, sampling_ratios):\n",
        "    sampled_df = pd.DataFrame()\n",
        "    for class_name in class_names:\n",
        "        if class_name == 'No Finding':\n",
        "            no_finding_df = df[df['Finding Labels'] == 'No Finding']\n",
        "            sample_size = int(len(no_finding_df) * sampling_ratios[class_name])\n",
        "            sampled_no_finding_df = no_finding_df.sample(n=sample_size, random_state=42)\n",
        "            sampled_df = pd.concat([sampled_df, sampled_no_finding_df], axis=0)\n",
        "        else:\n",
        "            class_df = df[df['Finding Labels'].str.contains(class_name)]\n",
        "            sample_size = int(len(class_df) * sampling_ratios[class_name])\n",
        "            sampled_class_df = class_df.sample(n=sample_size, random_state=42)\n",
        "            sampled_df = pd.concat([sampled_df, sampled_class_df], axis=0)\n",
        "    return sampled_df\n",
        "\n",
        "class_names_nf = class_names + ['No Finding']\n",
        "print(class_names)\n",
        "\n",
        "df_sampled = apply_class_sampling(df, class_names, sampling_ratios)\n",
        "\n",
        "class_counts = df_sampled['combined_labels'].value_counts()\n",
        "\n",
        "rare_classes = class_counts[class_counts < 10].index\n",
        "\n",
        "df_filtered = df_sampled[~df_sampled['combined_labels'].isin(rare_classes)]\n",
        "\n",
        "from sklearn.model_selection import GroupShuffleSplit, StratifiedShuffleSplit\n",
        "\n",
        "# Group split for train and test\n",
        "group_split = GroupShuffleSplit(test_size=0.2, n_splits=1, random_state=42)\n",
        "train_indices, test_indices = next(group_split.split(df_filtered, groups=df_filtered['Patient ID']))\n",
        "train_df = df_filtered.iloc[train_indices]\n",
        "test_df = df_filtered.iloc[test_indices]\n",
        "\n",
        "print(f\"Train data: {train_df.shape}\")\n",
        "print(f\"Test data: {test_df.shape}\")\n",
        "\n",
        "# Dataset and DataLoader initialization\n",
        "batch_size = 64\n",
        "num_cores = os.cpu_count()\n",
        "train_dataset = CXR14dataset(img_dirs=img_dirs, df=train_df)\n",
        "test_dataset = CXR14dataset(img_dirs=img_dirs, df=test_df)\n",
        "\n",
        "train_loader = DataLoader(train_dataset, batch_size=batch_size, shuffle=True, num_workers=num_cores, pin_memory=True, persistent_workers=True)\n",
        "test_loader = DataLoader(test_dataset, batch_size=batch_size, shuffle=False, num_workers=num_cores, pin_memory=True, persistent_workers=True)\n"
      ],
      "metadata": {
        "colab": {
          "base_uri": "https://localhost:8080/"
        },
        "id": "s9mm7Un9ioP5",
        "outputId": "a7d7426c-d69c-41be-ad4d-36df79d5493a"
      },
      "execution_count": 4,
      "outputs": [
        {
          "output_type": "stream",
          "name": "stdout",
          "text": [
            "['Atelectasis', 'Consolidation', 'Effusion', 'Infiltration', 'Mass', 'Nodule', 'Pneumothorax', 'Pleural_Thickening', 'Hernia', 'Pneumonia', 'Fibrosis', 'Edema', 'Cardiomegaly', 'Emphysema']\n",
            "Train data: (63767, 12)\n",
            "Test data: (15443, 12)\n"
          ]
        }
      ]
    },
    {
      "cell_type": "code",
      "source": [
        "import fastai\n",
        "from fastai.vision.all import *\n",
        "\n",
        "SEED = 64\n",
        "item_transforms = [\n",
        "    Resize((224, 224)),\n",
        "]\n",
        "\n",
        "batch_transforms = [\n",
        "    #Flip(),\n",
        "    #Rotate(),\n",
        "    Normalize.from_stats(*imagenet_stats),\n",
        "]\n",
        "\n",
        "\n",
        "def get_x(row):\n",
        "    base_dir = '/content/DATA/images'  # Base directory where the images are stored\n",
        "    image_idx = row['Image Index']  # Column in the CSV that contains the image index\n",
        "    return f\"{base_dir}/{image_idx}\"  # Construct the full path to the image\n",
        "\n",
        "def get_y(row):\n",
        "    diseases = row['Finding Labels']  # Column containing the labels\n",
        "    label = [0] * len(class_names)  # Initialize a list of 0s for all classes\n",
        "    for label_name in diseases.split('|'):\n",
        "        if label_name in class_names:\n",
        "            label[class_names.index(label_name)] = 1  # Set 1 for present classes\n",
        "    return label\n",
        "\n",
        "\n",
        "dblock = DataBlock(\n",
        "    blocks=(ImageBlock, MultiCategoryBlock(encoded=True,vocab=class_names)),\n",
        "                   splitter=RandomSplitter(valid_pct=0.125, seed=SEED),\n",
        "                   get_x=get_x,\n",
        "                   get_y=get_y,\n",
        "                   item_tfms=item_transforms,\n",
        "                   batch_tfms=batch_transforms\n",
        "                  )\n",
        "dls = dblock.dataloaders(train_df, bs=16)\n",
        "\n",
        "\n",
        "from fastai.vision.all import *\n",
        "\n",
        "cbs=[\n",
        "    SaveModelCallback(monitor='valid_loss', min_delta=0.0001, with_opt=True),\n",
        "    EarlyStoppingCallback(monitor='valid_loss', min_delta=0.001, patience=5),\n",
        "    ShowGraphCallback()\n",
        "    ]\n",
        "\n",
        "learn = vision_learner(dls, models.resnet50, metrics=[accuracy_multi, F1ScoreMulti(), RocAucMulti()],cbs=cbs, wd=0.001)\n",
        "\n",
        "learn.model = torch.nn.DataParallel(learn.model)\n"
      ],
      "metadata": {
        "id": "oXzV6x7qjIOR"
      },
      "execution_count": 8,
      "outputs": []
    },
    {
      "cell_type": "code",
      "source": [
        "lrs = learn.lr_find(suggest_funcs=(minimum, steep, valley, slide))\n",
        "print('intial learning rate=', lrs.valley)"
      ],
      "metadata": {
        "colab": {
          "base_uri": "https://localhost:8080/",
          "height": 528
        },
        "id": "0u9FRAm2jR74",
        "outputId": "0421b3ab-2c57-4f79-f21b-884293af7dee"
      },
      "execution_count": 9,
      "outputs": [
        {
          "output_type": "display_data",
          "data": {
            "text/plain": [
              "<IPython.core.display.HTML object>"
            ],
            "text/html": [
              "\n",
              "<style>\n",
              "    /* Turns off some styling */\n",
              "    progress {\n",
              "        /* gets rid of default border in Firefox and Opera. */\n",
              "        border: none;\n",
              "        /* Needs to be in here for Safari polyfill so background images work as expected. */\n",
              "        background-size: auto;\n",
              "    }\n",
              "    progress:not([value]), progress:not([value])::-webkit-progress-bar {\n",
              "        background: repeating-linear-gradient(45deg, #7e7e7e, #7e7e7e 10px, #5c5c5c 10px, #5c5c5c 20px);\n",
              "    }\n",
              "    .progress-bar-interrupted, .progress-bar-interrupted::-webkit-progress-bar {\n",
              "        background: #F44336;\n",
              "    }\n",
              "</style>\n"
            ]
          },
          "metadata": {}
        },
        {
          "output_type": "display_data",
          "data": {
            "text/plain": [
              "<IPython.core.display.HTML object>"
            ],
            "text/html": []
          },
          "metadata": {}
        },
        {
          "output_type": "stream",
          "name": "stderr",
          "text": [
            "/usr/local/lib/python3.10/dist-packages/fastai/learner.py:53: FutureWarning: You are using `torch.load` with `weights_only=False` (the current default value), which uses the default pickle module implicitly. It is possible to construct malicious pickle data which will execute arbitrary code during unpickling (See https://github.com/pytorch/pytorch/blob/main/SECURITY.md#untrusted-models for more details). In a future release, the default value for `weights_only` will be flipped to `True`. This limits the functions that could be executed during unpickling. Arbitrary objects will no longer be allowed to be loaded via this mode unless they are explicitly allowlisted by the user via `torch.serialization.add_safe_globals`. We recommend you start setting `weights_only=True` for any use case where you don't have full control of the loaded file. Please open an issue on GitHub for any issues related to this experimental feature.\n",
            "  state = torch.load(file, map_location=device, **torch_load_kwargs)\n"
          ]
        },
        {
          "output_type": "stream",
          "name": "stdout",
          "text": [
            "intial learning rate= 0.00363078061491251\n"
          ]
        },
        {
          "output_type": "display_data",
          "data": {
            "text/plain": [
              "<Figure size 640x480 with 1 Axes>"
            ],
            "image/png": "[encoded data removed]"
          },
          "metadata": {}
        }
      ]
    },
    {
      "cell_type": "code",
      "source": [
        "learn.fine_tune(epochs=20, base_lr=1e-3) #, base_lr=lrs.valley)\n",
        "learn.save('Resnet')\n"
      ],
      "metadata": {
        "colab": {
          "base_uri": "https://localhost:8080/",
          "height": 1000
        },
        "id": "ooze5EqcjSYR",
        "outputId": "10cd7669-2293-4e37-bf65-913dcda9724f"
      },
      "execution_count": 10,
      "outputs": [
        {
          "output_type": "display_data",
          "data": {
            "text/plain": [
              "<IPython.core.display.HTML object>"
            ],
            "text/html": [
              "\n",
              "<style>\n",
              "    /* Turns off some styling */\n",
              "    progress {\n",
              "        /* gets rid of default border in Firefox and Opera. */\n",
              "        border: none;\n",
              "        /* Needs to be in here for Safari polyfill so background images work as expected. */\n",
              "        background-size: auto;\n",
              "    }\n",
              "    progress:not([value]), progress:not([value])::-webkit-progress-bar {\n",
              "        background: repeating-linear-gradient(45deg, #7e7e7e, #7e7e7e 10px, #5c5c5c 10px, #5c5c5c 20px);\n",
              "    }\n",
              "    .progress-bar-interrupted, .progress-bar-interrupted::-webkit-progress-bar {\n",
              "        background: #F44336;\n",
              "    }\n",
              "</style>\n"
            ]
          },
          "metadata": {}
        },
        {
          "output_type": "display_data",
          "data": {
            "text/plain": [
              "<IPython.core.display.HTML object>"
            ],
            "text/html": [
              "<table border=\"1\" class=\"dataframe\">\n",
              "  <thead>\n",
              "    <tr style=\"text-align: left;\">\n",
              "      <th>epoch</th>\n",
              "      <th>train_loss</th>\n",
              "      <th>valid_loss</th>\n",
              "      <th>accuracy_multi</th>\n",
              "      <th>f1_score</th>\n",
              "      <th>roc_auc_score</th>\n",
              "      <th>time</th>\n",
              "    </tr>\n",
              "  </thead>\n",
              "  <tbody>\n",
              "    <tr>\n",
              "      <td>0</td>\n",
              "      <td>0.338085</td>\n",
              "      <td>0.317702</td>\n",
              "      <td>0.868095</td>\n",
              "      <td>0.088136</td>\n",
              "      <td>0.700747</td>\n",
              "      <td>04:26</td>\n",
              "    </tr>\n",
              "  </tbody>\n",
              "</table>"
            ]
          },
          "metadata": {}
        },
        {
          "output_type": "stream",
          "name": "stdout",
          "text": [
            "Better model found at epoch 0 with valid_loss value: 0.3177018165588379.\n"
          ]
        },
        {
          "output_type": "display_data",
          "data": {
            "text/plain": [
              "<Figure size 600x400 with 1 Axes>"
            ],
            "image/png": "[encoded data removed]"
          },
          "metadata": {}
        },
        {
          "output_type": "stream",
          "name": "stderr",
          "text": [
            "/usr/local/lib/python3.10/dist-packages/fastai/learner.py:53: FutureWarning: You are using `torch.load` with `weights_only=False` (the current default value), which uses the default pickle module implicitly. It is possible to construct malicious pickle data which will execute arbitrary code during unpickling (See https://github.com/pytorch/pytorch/blob/main/SECURITY.md#untrusted-models for more details). In a future release, the default value for `weights_only` will be flipped to `True`. This limits the functions that could be executed during unpickling. Arbitrary objects will no longer be allowed to be loaded via this mode unless they are explicitly allowlisted by the user via `torch.serialization.add_safe_globals`. We recommend you start setting `weights_only=True` for any use case where you don't have full control of the loaded file. Please open an issue on GitHub for any issues related to this experimental feature.\n",
            "  state = torch.load(file, map_location=device, **torch_load_kwargs)\n"
          ]
        },
        {
          "output_type": "display_data",
          "data": {
            "text/plain": [
              "<IPython.core.display.HTML object>"
            ],
            "text/html": [
              "\n",
              "<style>\n",
              "    /* Turns off some styling */\n",
              "    progress {\n",
              "        /* gets rid of default border in Firefox and Opera. */\n",
              "        border: none;\n",
              "        /* Needs to be in here for Safari polyfill so background images work as expected. */\n",
              "        background-size: auto;\n",
              "    }\n",
              "    progress:not([value]), progress:not([value])::-webkit-progress-bar {\n",
              "        background: repeating-linear-gradient(45deg, #7e7e7e, #7e7e7e 10px, #5c5c5c 10px, #5c5c5c 20px);\n",
              "    }\n",
              "    .progress-bar-interrupted, .progress-bar-interrupted::-webkit-progress-bar {\n",
              "        background: #F44336;\n",
              "    }\n",
              "</style>\n"
            ]
          },
          "metadata": {}
        },
        {
          "output_type": "display_data",
          "data": {
            "text/plain": [
              "<IPython.core.display.HTML object>"
            ],
            "text/html": [
              "<table border=\"1\" class=\"dataframe\">\n",
              "  <thead>\n",
              "    <tr style=\"text-align: left;\">\n",
              "      <th>epoch</th>\n",
              "      <th>train_loss</th>\n",
              "      <th>valid_loss</th>\n",
              "      <th>accuracy_multi</th>\n",
              "      <th>f1_score</th>\n",
              "      <th>roc_auc_score</th>\n",
              "      <th>time</th>\n",
              "    </tr>\n",
              "  </thead>\n",
              "  <tbody>\n",
              "    <tr>\n",
              "      <td>0</td>\n",
              "      <td>0.302920</td>\n",
              "      <td>0.287649</td>\n",
              "      <td>0.876770</td>\n",
              "      <td>0.178955</td>\n",
              "      <td>0.794993</td>\n",
              "      <td>05:15</td>\n",
              "    </tr>\n",
              "    <tr>\n",
              "      <td>1</td>\n",
              "      <td>0.274249</td>\n",
              "      <td>0.262167</td>\n",
              "      <td>0.887363</td>\n",
              "      <td>0.306482</td>\n",
              "      <td>0.841376</td>\n",
              "      <td>05:15</td>\n",
              "    </tr>\n",
              "    <tr>\n",
              "      <td>2</td>\n",
              "      <td>0.242322</td>\n",
              "      <td>0.237334</td>\n",
              "      <td>0.900690</td>\n",
              "      <td>0.444580</td>\n",
              "      <td>0.872008</td>\n",
              "      <td>05:16</td>\n",
              "    </tr>\n",
              "    <tr>\n",
              "      <td>3</td>\n",
              "      <td>0.218963</td>\n",
              "      <td>0.210578</td>\n",
              "      <td>0.915065</td>\n",
              "      <td>0.561520</td>\n",
              "      <td>0.900782</td>\n",
              "      <td>05:15</td>\n",
              "    </tr>\n",
              "    <tr>\n",
              "      <td>4</td>\n",
              "      <td>0.186422</td>\n",
              "      <td>0.192964</td>\n",
              "      <td>0.924762</td>\n",
              "      <td>0.619213</td>\n",
              "      <td>0.914994</td>\n",
              "      <td>05:15</td>\n",
              "    </tr>\n",
              "    <tr>\n",
              "      <td>5</td>\n",
              "      <td>0.162155</td>\n",
              "      <td>0.177215</td>\n",
              "      <td>0.934513</td>\n",
              "      <td>0.675968</td>\n",
              "      <td>0.928457</td>\n",
              "      <td>05:15</td>\n",
              "    </tr>\n",
              "    <tr>\n",
              "      <td>6</td>\n",
              "      <td>0.135086</td>\n",
              "      <td>0.165334</td>\n",
              "      <td>0.942974</td>\n",
              "      <td>0.746199</td>\n",
              "      <td>0.938140</td>\n",
              "      <td>05:15</td>\n",
              "    </tr>\n",
              "    <tr>\n",
              "      <td>7</td>\n",
              "      <td>0.108364</td>\n",
              "      <td>0.168188</td>\n",
              "      <td>0.946702</td>\n",
              "      <td>0.764011</td>\n",
              "      <td>0.940651</td>\n",
              "      <td>05:16</td>\n",
              "    </tr>\n",
              "    <tr>\n",
              "      <td>8</td>\n",
              "      <td>0.089397</td>\n",
              "      <td>0.168787</td>\n",
              "      <td>0.950708</td>\n",
              "      <td>0.782842</td>\n",
              "      <td>0.942427</td>\n",
              "      <td>05:15</td>\n",
              "    </tr>\n",
              "    <tr>\n",
              "      <td>9</td>\n",
              "      <td>0.071872</td>\n",
              "      <td>0.176322</td>\n",
              "      <td>0.953199</td>\n",
              "      <td>0.797230</td>\n",
              "      <td>0.944286</td>\n",
              "      <td>05:15</td>\n",
              "    </tr>\n",
              "    <tr>\n",
              "      <td>10</td>\n",
              "      <td>0.054309</td>\n",
              "      <td>0.182505</td>\n",
              "      <td>0.955502</td>\n",
              "      <td>0.814369</td>\n",
              "      <td>0.945742</td>\n",
              "      <td>05:17</td>\n",
              "    </tr>\n",
              "    <tr>\n",
              "      <td>11</td>\n",
              "      <td>0.040174</td>\n",
              "      <td>0.189738</td>\n",
              "      <td>0.957080</td>\n",
              "      <td>0.815369</td>\n",
              "      <td>0.948516</td>\n",
              "      <td>05:16</td>\n",
              "    </tr>\n",
              "  </tbody>\n",
              "</table>"
            ]
          },
          "metadata": {}
        },
        {
          "output_type": "stream",
          "name": "stdout",
          "text": [
            "Better model found at epoch 0 with valid_loss value: 0.2876490354537964.\n"
          ]
        },
        {
          "output_type": "display_data",
          "data": {
            "text/plain": [
              "<Figure size 600x400 with 1 Axes>"
            ],
            "image/png": "[encoded data removed]"
          },
          "metadata": {}
        },
        {
          "output_type": "stream",
          "name": "stdout",
          "text": [
            "Better model found at epoch 1 with valid_loss value: 0.26216715574264526.\n",
            "Better model found at epoch 2 with valid_loss value: 0.237334206700325.\n",
            "Better model found at epoch 3 with valid_loss value: 0.21057802438735962.\n",
            "Better model found at epoch 4 with valid_loss value: 0.19296394288539886.\n",
            "Better model found at epoch 5 with valid_loss value: 0.17721523344516754.\n",
            "Better model found at epoch 6 with valid_loss value: 0.16533368825912476.\n",
            "No improvement since epoch 6: early stopping\n"
          ]
        },
        {
          "output_type": "stream",
          "name": "stderr",
          "text": [
            "/usr/local/lib/python3.10/dist-packages/fastai/learner.py:53: FutureWarning: You are using `torch.load` with `weights_only=False` (the current default value), which uses the default pickle module implicitly. It is possible to construct malicious pickle data which will execute arbitrary code during unpickling (See https://github.com/pytorch/pytorch/blob/main/SECURITY.md#untrusted-models for more details). In a future release, the default value for `weights_only` will be flipped to `True`. This limits the functions that could be executed during unpickling. Arbitrary objects will no longer be allowed to be loaded via this mode unless they are explicitly allowlisted by the user via `torch.serialization.add_safe_globals`. We recommend you start setting `weights_only=True` for any use case where you don't have full control of the loaded file. Please open an issue on GitHub for any issues related to this experimental feature.\n",
            "  state = torch.load(file, map_location=device, **torch_load_kwargs)\n"
          ]
        },
        {
          "output_type": "execute_result",
          "data": {
            "text/plain": [
              "Path('models/Resnet.pth')"
            ]
          },
          "metadata": {},
          "execution_count": 10
        }
      ]
    },
    {
      "cell_type": "code",
      "source": [
        "dblock = DataBlock(\n",
        "    blocks=(ImageBlock, MultiCategoryBlock(encoded=True,vocab=class_names)),\n",
        "                    splitter=RandomSplitter(valid_pct=0, seed=SEED),\n",
        "                   get_x=get_x,\n",
        "                   get_y=get_y,\n",
        "                   item_tfms=item_transforms,\n",
        "                   batch_tfms=batch_transforms\n",
        "                  )\n",
        "dls = dblock.dataloaders(test_df, bs=32, shuffle=False)\n",
        "\n",
        "\n",
        "from sklearn.metrics import roc_auc_score\n",
        "import gc\n",
        "\n",
        "from sklearn.metrics import roc_auc_score\n",
        "import torch\n",
        "import gc\n",
        "\n",
        "def get_roc_auc(model_arch,model_path):\n",
        "    arch = model_arch\n",
        "    learner = vision_learner(dls, arch, metrics=[accuracy_multi, F1ScoreMulti(), RocAucMulti()])\n",
        "    learner.model = torch.nn.DataParallel(learner.model)\n",
        "    learner.load(model_path)\n",
        "    learner.to('cuda')\n",
        "    learner.freeze()\n",
        "    preds, y_test = learner.get_preds(ds_idx=0)\n",
        "    roc_auc = roc_auc_score(y_test, preds)\n",
        "\n",
        "    scores=[]\n",
        "    for i in range(0,len(class_names)):\n",
        "        label_roc_auc_score=roc_auc_score(y_test[:,i],preds[:,i])\n",
        "        scores.append(label_roc_auc_score)\n",
        "    print('ROC_AUC_Labels:', list(zip(class_names,scores)))\n",
        "\n",
        "#     print('AVERAGE', sum(scores)/len(scores))\n",
        "    print(f' SCORE: {roc_auc}')\n",
        "    acc_multi = accuracy_multi(preds, y_test)\n",
        "    acc_multi = accuracy_multi(preds, y_test, thresh=0.6, sigmoid=False)\n",
        "\n",
        "    print(f'Accuracy Multi: {acc_multi}')\n",
        "    del learner\n",
        "    gc.collect()\n",
        "    return {\n",
        "        'roc_auc': roc_auc,\n",
        "        'preds': preds,\n",
        "        'y_test': y_test\n",
        "    }\n",
        "\n",
        "\n",
        "densenet121_result= get_roc_auc(models.resnet50,'Resnet')\n",
        "\n"
      ],
      "metadata": {
        "id": "XtzC5AoXjX58",
        "colab": {
          "base_uri": "https://localhost:8080/",
          "height": 128
        },
        "outputId": "a8d9f8e5-cee1-45cb-e5fb-3a5214607e9f"
      },
      "execution_count": 11,
      "outputs": [
        {
          "output_type": "stream",
          "name": "stderr",
          "text": [
            "/usr/local/lib/python3.10/dist-packages/fastai/learner.py:53: FutureWarning: You are using `torch.load` with `weights_only=False` (the current default value), which uses the default pickle module implicitly. It is possible to construct malicious pickle data which will execute arbitrary code during unpickling (See https://github.com/pytorch/pytorch/blob/main/SECURITY.md#untrusted-models for more details). In a future release, the default value for `weights_only` will be flipped to `True`. This limits the functions that could be executed during unpickling. Arbitrary objects will no longer be allowed to be loaded via this mode unless they are explicitly allowlisted by the user via `torch.serialization.add_safe_globals`. We recommend you start setting `weights_only=True` for any use case where you don't have full control of the loaded file. Please open an issue on GitHub for any issues related to this experimental feature.\n",
            "  state = torch.load(file, map_location=device, **torch_load_kwargs)\n"
          ]
        },
        {
          "output_type": "display_data",
          "data": {
            "text/plain": [
              "<IPython.core.display.HTML object>"
            ],
            "text/html": [
              "\n",
              "<style>\n",
              "    /* Turns off some styling */\n",
              "    progress {\n",
              "        /* gets rid of default border in Firefox and Opera. */\n",
              "        border: none;\n",
              "        /* Needs to be in here for Safari polyfill so background images work as expected. */\n",
              "        background-size: auto;\n",
              "    }\n",
              "    progress:not([value]), progress:not([value])::-webkit-progress-bar {\n",
              "        background: repeating-linear-gradient(45deg, #7e7e7e, #7e7e7e 10px, #5c5c5c 10px, #5c5c5c 20px);\n",
              "    }\n",
              "    .progress-bar-interrupted, .progress-bar-interrupted::-webkit-progress-bar {\n",
              "        background: #F44336;\n",
              "    }\n",
              "</style>\n"
            ]
          },
          "metadata": {}
        },
        {
          "output_type": "display_data",
          "data": {
            "text/plain": [
              "<IPython.core.display.HTML object>"
            ],
            "text/html": []
          },
          "metadata": {}
        },
        {
          "output_type": "stream",
          "name": "stdout",
          "text": [
            "ROC_AUC_Labels: [('Atelectasis', 0.6696464360046722), ('Consolidation', 0.5910268547744726), ('Effusion', 0.756396835658047), ('Infiltration', 0.5969492730168023), ('Mass', 0.6841349772045086), ('Nodule', 0.6771798345051994), ('Pneumothorax', 0.7864419958597657), ('Pleural_Thickening', 0.6240326613260372), ('Hernia', 0.6681053918638622), ('Pneumonia', 0.5868413443506912), ('Fibrosis', 0.723580918754609), ('Edema', 0.7995302010923997), ('Cardiomegaly', 0.8107674807845431), ('Emphysema', 0.8330471307292483)]\n",
            " SCORE: 0.7005486668517756\n",
            "Accuracy Multi: TensorBase(0.8666)\n"
          ]
        }
      ]
    }
  ]
}