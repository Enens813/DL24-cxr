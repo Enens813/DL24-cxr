{
  "cells": [
    {
      "cell_type": "code",
      "execution_count": 1,
      "metadata": {
        "id": "pMY40QfyIDBF"
      },
      "outputs": [],
      "source": [
        "import os\n",
        "import pandas as pd\n",
        "from torch.utils.data import Dataset, DataLoader\n",
        "from PIL import Image\n",
        "import torch\n",
        "from torchvision import transforms\n",
        "from tqdm import tqdm\n",
        "import torch\n",
        "from torchvision import transforms\n",
        "import pandas as pd\n",
        "import os\n",
        "from PIL import Image\n",
        "import random\n"
      ]
    },
    {
      "cell_type": "code",
      "source": [
        "import torch\n",
        "import torch.nn as nn\n",
        "import torch.optim as optim\n",
        "from torch.utils.data import DataLoader, Dataset, ConcatDataset\n",
        "from torchvision import transforms, datasets, models\n",
        "import urllib.request\n",
        "import tarfile\n",
        "import os\n",
        "import pandas as pd\n",
        "from PIL import Image, ImageFilter\n",
        "from tqdm import tqdm\n",
        "\n",
        "import os\n",
        "import urllib.request\n",
        "import threading\n",
        "\n",
        "# 다운로드 받을 경로 설정 (예: 현재 디렉터리 또는 지정된 경로)\n",
        "download_path = 'DATA'  # 원하는 경로로 변경 가능\n",
        "\n",
        "# 다운로드 경로가 존재하지 않으면 생성\n",
        "if not os.path.exists(download_path):\n",
        "    os.makedirs(download_path)\n",
        "\n",
        "# 파일 URL 리스트\n",
        "links = [\n",
        "    'https://nihcc.box.com/shared/static/vfk49d74nhbxq3nqjg0900w5nvkorp5c.gz',\n",
        "    'https://nihcc.box.com/shared/static/i28rlmbvmfjbl8p2n3ril0pptcmcu9d1.gz',\n",
        "    'https://nihcc.box.com/shared/static/f1t00wrtdk94satdfb9olcolqx20z2jp.gz',\n",
        "    'https://nihcc.box.com/shared/static/0aowwzs5lhjrceb3qp67ahp0rd1l1etg.gz',\n",
        "    'https://nihcc.box.com/shared/static/v5e3goj22zr6h8tzualxfsqlqaygfbsn.gz',\n",
        "    'https://nihcc.box.com/shared/static/asi7ikud9jwnkrnkj99jnpfkjdes7l6l.gz',\n",
        "    'https://nihcc.box.com/shared/static/jn1b4mw4n6lnh74ovmcjb8y48h8xj07n.gz',\n",
        "    'https://nihcc.box.com/shared/static/tvpxmn7qyrgl0w8wfh9kqfjskv6nmm1j.gz',\n",
        "    'https://nihcc.box.com/shared/static/upyy3ml7qdumlgk2rfcvlb9k6gvqq2pj.gz',\n",
        "    'https://nihcc.box.com/shared/static/l6nilvfa9cg3s28tqv1qc1olm3gnz54p.gz',\n",
        "    'https://nihcc.box.com/shared/static/hhq8fkdgvcari67vfhs7ppg2w6ni4jze.gz',\n",
        "    'https://nihcc.box.com/shared/static/ioqwiy20ihqwyr8pf4c24eazhh281pbu.gz'\n",
        "]\n",
        "\n",
        "# 파일 다운로드 함수\n",
        "def download_file(url, download_dir, idx):\n",
        "    fn = os.path.join(download_dir, f'images_{idx+1:02d}.tar.gz')\n",
        "    print(f'Downloading {fn}...')\n",
        "    urllib.request.urlretrieve(url, fn)  # 파일 다운로드\n",
        "    print(f'{fn} download complete.')\n",
        "\n",
        "# 다운로드 스레드 생성\n",
        "threads = []\n",
        "for idx, link in enumerate(links):\n",
        "    thread = threading.Thread(target=download_file, args=(link, download_path, idx))\n",
        "    threads.append(thread)\n",
        "    thread.start()\n",
        "\n",
        "# 모든 스레드가 끝날 때까지 기다리기\n",
        "for thread in threads:\n",
        "    thread.join()\n",
        "\n",
        "print(\"All downloads complete. Files are saved in\", download_path)\n",
        "\n",
        "import os\n",
        "import tarfile\n",
        "import shutil\n",
        "\n",
        "# tar 파일들이 저장된 경로 (다운로드 경로와 동일하게 설정)\n",
        "tar_dir = 'DATA'  # 원본 tar 파일들이 저장된 경로\n",
        "extract_dir = 'DATA'  # 압축 해제할 경로\n",
        "\n",
        "# Loop through each downloaded tar file and extract it\n",
        "for idx in range(1, len(links) + 1):\n",
        "    tar_path = os.path.join(tar_dir, f'images_{idx:02d}.tar.gz')\n",
        "\n",
        "    # Extract the tar file into the specified directory\n",
        "    print(f'Extracting {tar_path} to {extract_dir}...')\n",
        "    with tarfile.open(tar_path, 'r:gz') as tar:\n",
        "        tar.extractall(path=extract_dir)\n",
        "\n",
        "    # Delete the original tar.gz file after extraction\n",
        "    os.remove(tar_path)\n",
        "    print(f'Deleted {tar_path} after extraction.')\n",
        "\n",
        "print(\"Extraction complete.\")\n",
        "\n"
      ],
      "metadata": {
        "colab": {
          "base_uri": "https://localhost:8080/"
        },
        "id": "3iMsv0mkIjDr",
        "outputId": "6fd90337-70a5-4ad4-d5e3-cc271409f3a7"
      },
      "execution_count": 3,
      "outputs": [
        {
          "output_type": "stream",
          "name": "stdout",
          "text": [
            "Downloading DATA/images_01.tar.gz...\n",
            "Downloading DATA/images_02.tar.gz...\n",
            "Downloading DATA/images_03.tar.gz...\n",
            "Downloading DATA/images_04.tar.gz...\n",
            "Downloading DATA/images_05.tar.gz...\n",
            "Downloading DATA/images_06.tar.gz...\n",
            "Downloading DATA/images_07.tar.gz...\n",
            "Downloading DATA/images_08.tar.gz...\n",
            "Downloading DATA/images_09.tar.gz...\n",
            "Downloading DATA/images_10.tar.gz...\n",
            "Downloading DATA/images_11.tar.gz...\n",
            "Downloading DATA/images_12.tar.gz...\n",
            "DATA/images_01.tar.gz download complete.\n",
            "DATA/images_12.tar.gz download complete.\n",
            "DATA/images_04.tar.gz download complete.\n",
            "DATA/images_03.tar.gz download complete.\n",
            "DATA/images_05.tar.gz download complete.\n",
            "DATA/images_06.tar.gz download complete.\n",
            "DATA/images_09.tar.gz download complete.\n",
            "DATA/images_11.tar.gz download complete.\n",
            "DATA/images_07.tar.gz download complete.\n",
            "DATA/images_08.tar.gz download complete.\n",
            "DATA/images_02.tar.gz download complete.\n",
            "DATA/images_10.tar.gz download complete.\n",
            "All downloads complete. Files are saved in DATA\n",
            "Extracting DATA/images_01.tar.gz to DATA...\n",
            "Deleted DATA/images_01.tar.gz after extraction.\n",
            "Extracting DATA/images_02.tar.gz to DATA...\n",
            "Deleted DATA/images_02.tar.gz after extraction.\n",
            "Extracting DATA/images_03.tar.gz to DATA...\n",
            "Deleted DATA/images_03.tar.gz after extraction.\n",
            "Extracting DATA/images_04.tar.gz to DATA...\n",
            "Deleted DATA/images_04.tar.gz after extraction.\n",
            "Extracting DATA/images_05.tar.gz to DATA...\n",
            "Deleted DATA/images_05.tar.gz after extraction.\n",
            "Extracting DATA/images_06.tar.gz to DATA...\n",
            "Deleted DATA/images_06.tar.gz after extraction.\n",
            "Extracting DATA/images_07.tar.gz to DATA...\n",
            "Deleted DATA/images_07.tar.gz after extraction.\n",
            "Extracting DATA/images_08.tar.gz to DATA...\n",
            "Deleted DATA/images_08.tar.gz after extraction.\n",
            "Extracting DATA/images_09.tar.gz to DATA...\n",
            "Deleted DATA/images_09.tar.gz after extraction.\n",
            "Extracting DATA/images_10.tar.gz to DATA...\n",
            "Deleted DATA/images_10.tar.gz after extraction.\n",
            "Extracting DATA/images_11.tar.gz to DATA...\n",
            "Deleted DATA/images_11.tar.gz after extraction.\n",
            "Extracting DATA/images_12.tar.gz to DATA...\n",
            "Deleted DATA/images_12.tar.gz after extraction.\n",
            "Extraction complete.\n"
          ]
        }
      ]
    },
    {
      "cell_type": "code",
      "execution_count": 12,
      "metadata": {
        "colab": {
          "base_uri": "https://localhost:8080/"
        },
        "id": "hDRT1wWkIDBL",
        "outputId": "21ce9f4c-c805-41c1-b2f8-efa2b0fb3d22"
      },
      "outputs": [
        {
          "output_type": "stream",
          "name": "stdout",
          "text": [
            "['Atelectasis', 'Consolidation', 'Effusion', 'Infiltration', 'Mass', 'Nodule', 'Pneumothorax']\n",
            "Train data: (82104, 12)\n",
            "Validation data: (10450, 12)\n",
            "Test data: (10451, 12)\n",
            "torch.Size([64, 3, 224, 224])\n",
            "torch.Size([64, 7])\n"
          ]
        }
      ],
      "source": [
        "import pandas as pd\n",
        "from sklearn.model_selection import train_test_split\n",
        "from torch.utils.data import DataLoader, Dataset\n",
        "import random\n",
        "import os\n",
        "from torchvision import transforms\n",
        "from PIL import Image\n",
        "import torch\n",
        "from sklearn.model_selection import StratifiedShuffleSplit, GroupShuffleSplit\n",
        "import pandas as pd\n",
        "\n",
        "\n",
        "csv_file_path = './Data_Entry_2017_v2020.csv'\n",
        "\n",
        "df = pd.read_csv(csv_file_path)\n",
        "\n",
        "class_names = ['Atelectasis',  'Consolidation',  'Effusion',\n",
        "                 'Infiltration', 'Mass', 'Nodule', 'Pneumothorax'\n",
        "                #'Pleural_Thickening',\n",
        "               #'Hernia',\n",
        "               # 'Pneumonia',\n",
        "               # 'Fibrosis',\n",
        "               #  'Edema',\n",
        "               # 'Cardiomegaly',\n",
        "               # 'Emphysema',\n",
        "            ]\n",
        "\n",
        "def get_labels(diseases):\n",
        "    labels = torch.zeros(len(class_names))\n",
        "    if diseases != 'No Finding':\n",
        "        for label_name in diseases.split('|'):\n",
        "            if label_name in class_names:\n",
        "                labels[class_names.index(label_name)] = 1\n",
        "    return labels\n",
        "\n",
        "class CXR14dataset(Dataset):\n",
        "    def __init__(self, img_dirs, df, augment=None):\n",
        "        self.img_dirs = img_dirs\n",
        "        self.df = df\n",
        "        self.transform = transforms.Compose([\n",
        "            transforms.Resize((224, 224)),\n",
        "            transforms.ToTensor(),\n",
        "            transforms.Normalize([0.5123], [0.2307])\n",
        "        ])\n",
        "        self.augment = augment\n",
        "\n",
        "    def __len__(self):\n",
        "        return len(self.df)\n",
        "\n",
        "    def __getitem__(self, idx):\n",
        "        img_name = self.df.iloc[idx, 0]\n",
        "        diseases = self.df.iloc[idx, 1]\n",
        "        label = get_labels(diseases)\n",
        "\n",
        "        image = None\n",
        "        for img_dir in self.img_dirs:\n",
        "            img_path = os.path.join(img_dir, img_name)\n",
        "            if os.path.exists(img_path):\n",
        "                image = Image.open(img_path).convert(\"RGB\")\n",
        "                break\n",
        "\n",
        "        if image is None:\n",
        "            raise FileNotFoundError(f\"Image {img_name} not found in provided directories.\")\n",
        "\n",
        "        if self.augment:\n",
        "            image = self.augment(image)\n",
        "        else:\n",
        "            image = self.transform(image)\n",
        "\n",
        "        return image, label\n",
        "\n",
        "img_dirs = ['./DATA/images']\n",
        "\n",
        "# 데이터셋을 train, validation, test로 나누기 (Stratified Split을 사용하여 클래스 비율 유지)\n",
        "# 모든 질병 컬럼을 하나의 벡터로 결합하여 분할 (멀티 라벨 문제에 대한 처리)\n",
        "df['combined_labels'] = df['Finding Labels'].apply(\n",
        "    lambda x: '|'.join(sorted([label for label in x.split('|') if label in class_names]))\n",
        ")\n",
        "\n",
        "sampling_ratios = {\n",
        "    'Atelectasis': 1,\n",
        "    'Cardiomegaly': 1,\n",
        "    'Consolidation': 1,\n",
        "    #'Edema': 1,\n",
        "    'Effusion': 1,\n",
        "    'Emphysema': 1,\n",
        "    #'Fibrosis': 1,\n",
        "    #'Hernia': 1,\n",
        "    'Infiltration': 1,\n",
        "    'Mass': 1,\n",
        "    'Nodule': 1,\n",
        "    #'Pneumonia': 1,\n",
        "    'Pleural_Thickening': 1,\n",
        "    'Pneumothorax': 1,\n",
        "    'No Finding': 0.6\n",
        "}\n",
        "\n",
        "def apply_class_sampling(df, class_names, sampling_ratios):\n",
        "    sampled_df = pd.DataFrame()\n",
        "    for class_name in class_names:\n",
        "        if class_name == 'No Finding':\n",
        "            no_finding_df = df[df['Finding Labels'] == 'No Finding']\n",
        "            sample_size = int(len(no_finding_df) * sampling_ratios[class_name])\n",
        "            sampled_no_finding_df = no_finding_df.sample(n=sample_size, random_state=42)\n",
        "            sampled_df = pd.concat([sampled_df, sampled_no_finding_df], axis=0)\n",
        "        else:\n",
        "            class_df = df[df['Finding Labels'].str.contains(class_name)]\n",
        "            sample_size = int(len(class_df) * sampling_ratios[class_name])\n",
        "            sampled_class_df = class_df.sample(n=sample_size, random_state=42)\n",
        "            sampled_df = pd.concat([sampled_df, sampled_class_df], axis=0)\n",
        "    return sampled_df\n",
        "\n",
        "class_names_nf = class_names + ['No Finding']\n",
        "print(class_names)\n",
        "\n",
        "df_sampled = apply_class_sampling(df, class_names_nf, sampling_ratios)\n",
        "\n",
        "class_counts = df_sampled['combined_labels'].value_counts()\n",
        "\n",
        "rare_classes = class_counts[class_counts < 10].index\n",
        "\n",
        "df_filtered = df_sampled[~df_sampled['combined_labels'].isin(rare_classes)]\n",
        "\n",
        "# train_df, temp_df = train_test_split(df_filtered, test_size=0.2, stratify=df_filtered['combined_labels'], random_state=42)\n",
        "# valid_df, test_df = train_test_split(temp_df, test_size=0.5, stratify=temp_df['combined_labels'], random_state=42)\n",
        "\n",
        "\n",
        "group_split = GroupShuffleSplit(test_size=0.2, n_splits=1, random_state=42)\n",
        "train_indices, temp_indices = next(group_split.split(df_filtered, groups=df_filtered['Patient ID']))\n",
        "train_df = df_filtered.iloc[train_indices]\n",
        "temp_df = df_filtered.iloc[temp_indices]\n",
        "\n",
        "stratified_split = StratifiedShuffleSplit(n_splits=1, test_size=0.5, random_state=42)\n",
        "\n",
        "for valid_indices, test_indices in stratified_split.split(temp_df, temp_df['combined_labels']):\n",
        "    valid_df = temp_df.iloc[valid_indices]\n",
        "    test_df = temp_df.iloc[test_indices]\n",
        "\n",
        "print(f\"Train data: {train_df.shape}\")\n",
        "print(f\"Validation data: {valid_df.shape}\")\n",
        "print(f\"Test data: {test_df.shape}\")\n",
        "\n",
        "\n",
        "batch_size = 64\n",
        "num_cores = os.cpu_count()\n",
        "train_dataset = CXR14dataset(img_dirs=img_dirs, df=train_df)\n",
        "valid_dataset = CXR14dataset(img_dirs=img_dirs, df=valid_df)\n",
        "test_dataset = CXR14dataset(img_dirs=img_dirs, df=test_df)\n",
        "\n",
        "train_loader = DataLoader(train_dataset, batch_size=batch_size, shuffle=True, num_workers=num_cores, pin_memory=True, persistent_workers=True)\n",
        "valid_loader = DataLoader(valid_dataset, batch_size=batch_size, shuffle=False, num_workers=num_cores, pin_memory=True, persistent_workers=True)\n",
        "test_loader = DataLoader(test_dataset, batch_size=batch_size, shuffle=False, num_workers=num_cores, pin_memory=True, persistent_workers=True)\n",
        "\n",
        "\n",
        "for images, labels in train_loader:\n",
        "    print(images.shape)\n",
        "    print(labels.shape)\n",
        "    break\n"
      ]
    },
    {
      "cell_type": "code",
      "execution_count": 13,
      "metadata": {
        "colab": {
          "base_uri": "https://localhost:8080/",
          "height": 676
        },
        "id": "IlpqbKhyIDBN",
        "outputId": "3610f266-b7f0-44d9-8708-95f9dd82f313"
      },
      "outputs": [
        {
          "output_type": "stream",
          "name": "stderr",
          "text": [
            "<ipython-input-13-0160daea15a3>:10: FutureWarning: \n",
            "\n",
            "Passing `palette` without assigning `hue` is deprecated and will be removed in v0.14.0. Assign the `x` variable to `hue` and set `legend=False` for the same effect.\n",
            "\n",
            "  sns.barplot(x=train_class_counts.index, y=train_class_counts.values/train_class_counts.sum(), palette='viridis', ax=axes[0])\n",
            "<ipython-input-13-0160daea15a3>:16: FutureWarning: \n",
            "\n",
            "Passing `palette` without assigning `hue` is deprecated and will be removed in v0.14.0. Assign the `x` variable to `hue` and set `legend=False` for the same effect.\n",
            "\n",
            "  sns.barplot(x=valid_class_counts.index, y=valid_class_counts.values/valid_class_counts.sum(), palette='viridis', ax=axes[1])\n",
            "<ipython-input-13-0160daea15a3>:22: FutureWarning: \n",
            "\n",
            "Passing `palette` without assigning `hue` is deprecated and will be removed in v0.14.0. Assign the `x` variable to `hue` and set `legend=False` for the same effect.\n",
            "\n",
            "  sns.barplot(x=test_class_counts.index, y=test_class_counts.values/test_class_counts.sum(), palette='viridis', ax=axes[2])\n"
          ]
        },
        {
          "output_type": "display_data",
          "data": {
            "text/plain": [
              "<Figure size 1800x600 with 3 Axes>"
            ],
            "image/png": "[encoded data removed]"
          },
          "metadata": {}
        }
      ],
      "source": [
        "import matplotlib.pyplot as plt\n",
        "import seaborn as sns\n",
        "\n",
        "train_class_counts = train_df['combined_labels'].str.split('|', expand=True).stack().value_counts()\n",
        "valid_class_counts = valid_df['combined_labels'].str.split('|', expand=True).stack().value_counts()\n",
        "test_class_counts = test_df['combined_labels'].str.split('|', expand=True).stack().value_counts()\n",
        "\n",
        "fig, axes = plt.subplots(1, 3, figsize=(18, 6))\n",
        "\n",
        "sns.barplot(x=train_class_counts.index, y=train_class_counts.values/train_class_counts.sum(), palette='viridis', ax=axes[0])\n",
        "axes[0].set_title('Train Class Distribution')\n",
        "axes[0].set_xlabel('Class')\n",
        "axes[0].set_ylabel('Frequency')\n",
        "axes[0].tick_params(axis='x', rotation=90)\n",
        "\n",
        "sns.barplot(x=valid_class_counts.index, y=valid_class_counts.values/valid_class_counts.sum(), palette='viridis', ax=axes[1])\n",
        "axes[1].set_title('Validation Class Distribution')\n",
        "axes[1].set_xlabel('Class')\n",
        "axes[1].set_ylabel('Frequency')\n",
        "axes[1].tick_params(axis='x', rotation=90)\n",
        "\n",
        "sns.barplot(x=test_class_counts.index, y=test_class_counts.values/test_class_counts.sum(), palette='viridis', ax=axes[2])\n",
        "axes[2].set_title('Test Class Distribution')\n",
        "axes[2].set_xlabel('Class')\n",
        "axes[2].set_ylabel('Frequency')\n",
        "axes[2].tick_params(axis='x', rotation=90)\n",
        "\n",
        "plt.tight_layout()\n",
        "plt.show()\n"
      ]
    },
    {
      "cell_type": "code",
      "execution_count": 14,
      "metadata": {
        "colab": {
          "base_uri": "https://localhost:8080/"
        },
        "id": "Evah3Z13IDBP",
        "outputId": "9bc14454-f344-4889-f3a9-3413e18ecc81"
      },
      "outputs": [
        {
          "output_type": "stream",
          "name": "stdout",
          "text": [
            "----------------------------------------------------------------\n",
            "        Layer (type)               Output Shape         Param #\n",
            "================================================================\n",
            "            Conv2d-1         [-1, 64, 112, 112]           9,408\n",
            "       BatchNorm2d-2         [-1, 64, 112, 112]             128\n",
            "              ReLU-3         [-1, 64, 112, 112]               0\n",
            "         MaxPool2d-4           [-1, 64, 56, 56]               0\n",
            "            Conv2d-5           [-1, 64, 56, 56]          36,864\n",
            "       BatchNorm2d-6           [-1, 64, 56, 56]             128\n",
            "              ReLU-7           [-1, 64, 56, 56]               0\n",
            "            Conv2d-8           [-1, 64, 56, 56]          36,864\n",
            "       BatchNorm2d-9           [-1, 64, 56, 56]             128\n",
            "             ReLU-10           [-1, 64, 56, 56]               0\n",
            "       BasicBlock-11           [-1, 64, 56, 56]               0\n",
            "           Conv2d-12           [-1, 64, 56, 56]          36,864\n",
            "      BatchNorm2d-13           [-1, 64, 56, 56]             128\n",
            "             ReLU-14           [-1, 64, 56, 56]               0\n",
            "           Conv2d-15           [-1, 64, 56, 56]          36,864\n",
            "      BatchNorm2d-16           [-1, 64, 56, 56]             128\n",
            "             ReLU-17           [-1, 64, 56, 56]               0\n",
            "       BasicBlock-18           [-1, 64, 56, 56]               0\n",
            "          Dropout-19           [-1, 64, 56, 56]               0\n",
            "           Conv2d-20          [-1, 128, 28, 28]          73,728\n",
            "      BatchNorm2d-21          [-1, 128, 28, 28]             256\n",
            "             ReLU-22          [-1, 128, 28, 28]               0\n",
            "           Conv2d-23          [-1, 128, 28, 28]         147,456\n",
            "      BatchNorm2d-24          [-1, 128, 28, 28]             256\n",
            "           Conv2d-25          [-1, 128, 28, 28]           8,192\n",
            "      BatchNorm2d-26          [-1, 128, 28, 28]             256\n",
            "             ReLU-27          [-1, 128, 28, 28]               0\n",
            "       BasicBlock-28          [-1, 128, 28, 28]               0\n",
            "           Conv2d-29          [-1, 128, 28, 28]         147,456\n",
            "      BatchNorm2d-30          [-1, 128, 28, 28]             256\n",
            "             ReLU-31          [-1, 128, 28, 28]               0\n",
            "           Conv2d-32          [-1, 128, 28, 28]         147,456\n",
            "      BatchNorm2d-33          [-1, 128, 28, 28]             256\n",
            "             ReLU-34          [-1, 128, 28, 28]               0\n",
            "       BasicBlock-35          [-1, 128, 28, 28]               0\n",
            "          Dropout-36          [-1, 128, 28, 28]               0\n",
            "           Conv2d-37          [-1, 256, 14, 14]         294,912\n",
            "      BatchNorm2d-38          [-1, 256, 14, 14]             512\n",
            "             ReLU-39          [-1, 256, 14, 14]               0\n",
            "           Conv2d-40          [-1, 256, 14, 14]         589,824\n",
            "      BatchNorm2d-41          [-1, 256, 14, 14]             512\n",
            "           Conv2d-42          [-1, 256, 14, 14]          32,768\n",
            "      BatchNorm2d-43          [-1, 256, 14, 14]             512\n",
            "             ReLU-44          [-1, 256, 14, 14]               0\n",
            "       BasicBlock-45          [-1, 256, 14, 14]               0\n",
            "           Conv2d-46          [-1, 256, 14, 14]         589,824\n",
            "      BatchNorm2d-47          [-1, 256, 14, 14]             512\n",
            "             ReLU-48          [-1, 256, 14, 14]               0\n",
            "           Conv2d-49          [-1, 256, 14, 14]         589,824\n",
            "      BatchNorm2d-50          [-1, 256, 14, 14]             512\n",
            "             ReLU-51          [-1, 256, 14, 14]               0\n",
            "       BasicBlock-52          [-1, 256, 14, 14]               0\n",
            "          Dropout-53          [-1, 256, 14, 14]               0\n",
            "           Conv2d-54            [-1, 512, 7, 7]       1,179,648\n",
            "      BatchNorm2d-55            [-1, 512, 7, 7]           1,024\n",
            "             ReLU-56            [-1, 512, 7, 7]               0\n",
            "           Conv2d-57            [-1, 512, 7, 7]       2,359,296\n",
            "      BatchNorm2d-58            [-1, 512, 7, 7]           1,024\n",
            "           Conv2d-59            [-1, 512, 7, 7]         131,072\n",
            "      BatchNorm2d-60            [-1, 512, 7, 7]           1,024\n",
            "             ReLU-61            [-1, 512, 7, 7]               0\n",
            "       BasicBlock-62            [-1, 512, 7, 7]               0\n",
            "           Conv2d-63            [-1, 512, 7, 7]       2,359,296\n",
            "      BatchNorm2d-64            [-1, 512, 7, 7]           1,024\n",
            "             ReLU-65            [-1, 512, 7, 7]               0\n",
            "           Conv2d-66            [-1, 512, 7, 7]       2,359,296\n",
            "      BatchNorm2d-67            [-1, 512, 7, 7]           1,024\n",
            "             ReLU-68            [-1, 512, 7, 7]               0\n",
            "       BasicBlock-69            [-1, 512, 7, 7]               0\n",
            "AdaptiveAvgPool2d-70            [-1, 512, 1, 1]               0\n",
            "          Dropout-71                  [-1, 512]               0\n",
            "           Linear-72                    [-1, 7]           3,591\n",
            "================================================================\n",
            "Total params: 11,180,103\n",
            "Trainable params: 11,180,103\n",
            "Non-trainable params: 0\n",
            "----------------------------------------------------------------\n",
            "Input size (MB): 0.57\n",
            "Forward/backward pass size (MB): 65.47\n",
            "Params size (MB): 42.65\n",
            "Estimated Total Size (MB): 108.69\n",
            "----------------------------------------------------------------\n"
          ]
        }
      ],
      "source": [
        "import torch\n",
        "import torch.nn as nn\n",
        "from torchvision.models import resnet18\n",
        "from torchsummary import summary\n",
        "\n",
        "class CustomResNet18(nn.Module):\n",
        "    def __init__(self, num_classes):\n",
        "        super(CustomResNet18, self).__init__()\n",
        "\n",
        "        resnet = resnet18(weights=\"IMAGENET1K_V1\")  # Always use pretrained weights\n",
        "        self.conv1 = resnet.conv1\n",
        "        self.bn1 = resnet.bn1\n",
        "        self.relu = resnet.relu\n",
        "        self.maxpool = resnet.maxpool\n",
        "        self.layer1 = resnet.layer1\n",
        "        self.layer2 = resnet.layer2\n",
        "        self.layer3 = resnet.layer3\n",
        "        self.layer4 = resnet.layer4\n",
        "        self.avgpool = resnet.avgpool\n",
        "\n",
        "        self.dropout1 = nn.Dropout(p=0.3)\n",
        "        self.dropout2 = nn.Dropout(p=0.4)\n",
        "        self.dropout3 = nn.Dropout(p=0.4)\n",
        "        self.dropout4 = nn.Dropout(p=0.5)\n",
        "\n",
        "        self.fc = nn.Linear(512, num_classes)\n",
        "\n",
        "    def forward(self, x):\n",
        "        x = self.conv1(x)\n",
        "        x = self.bn1(x)\n",
        "        x = self.relu(x)\n",
        "        x = self.maxpool(x)\n",
        "\n",
        "        x = self.layer1(x)\n",
        "        x = self.dropout1(x)\n",
        "\n",
        "        x = self.layer2(x)\n",
        "        x = self.dropout2(x)\n",
        "\n",
        "        x = self.layer3(x)\n",
        "        x = self.dropout3(x)\n",
        "\n",
        "        x = self.layer4(x)\n",
        "\n",
        "        x = self.avgpool(x)\n",
        "        x = torch.flatten(x, 1)\n",
        "        x = self.dropout4(x)\n",
        "        x = self.fc(x)\n",
        "        return x\n",
        "\n",
        "\n",
        "device = torch.device(\"cuda\" if torch.cuda.is_available() else \"cpu\")\n",
        "num_classes = len(class_names)\n",
        "model = CustomResNet18(num_classes=num_classes).to(device)\n",
        "\n",
        "input_size = (3, 224, 224)\n",
        "summary(model, input_size=input_size, device=device.type)\n",
        "\n"
      ]
    },
    {
      "cell_type": "code",
      "execution_count": 15,
      "metadata": {
        "colab": {
          "base_uri": "https://localhost:8080/"
        },
        "id": "llzROKFYIDBQ",
        "outputId": "334216bd-b2fe-4633-d683-40d70e127a10"
      },
      "outputs": [
        {
          "output_type": "stream",
          "name": "stdout",
          "text": [
            "tensor([1.1503, 1.4783, 1.7108, 3.3112, 3.4423, 3.8177, 4.1254],\n",
            "       dtype=torch.float64)\n"
          ]
        },
        {
          "output_type": "stream",
          "name": "stderr",
          "text": [
            "<ipython-input-15-12598d2d397e>:7: FutureWarning: Series.__getitem__ treating keys as positions is deprecated. In a future version, integer keys will always be treated as labels (consistent with DataFrame behavior). To access a value by position, use `ser.iloc[pos]`\n",
            "  class_weights=class_weights/(class_weights[0])\n",
            "<ipython-input-15-12598d2d397e>:8: FutureWarning: Series.__getitem__ treating keys as positions is deprecated. In a future version, integer keys will always be treated as labels (consistent with DataFrame behavior). To access a value by position, use `ser.iloc[pos]`\n",
            "  class_weights=torch.tensor(class_weights)\n"
          ]
        }
      ],
      "source": [
        "import torch.optim as optim\n",
        "import torch.nn as nn\n",
        "import torch.optim.lr_scheduler as lr_scheduler\n",
        "\n",
        "\n",
        "class_weights=train_class_counts.sum()/train_class_counts\n",
        "class_weights=class_weights/(class_weights[0])\n",
        "class_weights=torch.tensor(class_weights)\n",
        "class_weights = class_weights[1:]\n",
        "print(class_weights)\n",
        "\n",
        "\n",
        "criterion = nn.BCEWithLogitsLoss()\n",
        "# criterion = nn.BCEWithLogitsLoss(pos_weight=class_weights)\n",
        "criterion = criterion.to(device)\n",
        "\n",
        "optimizer = optim.Adam(model.parameters(), lr=1e-3)\n",
        "\n",
        "scheduler = lr_scheduler.StepLR(optimizer, step_size=5, gamma=0.1)\n"
      ]
    },
    {
      "cell_type": "code",
      "execution_count": 16,
      "metadata": {
        "colab": {
          "base_uri": "https://localhost:8080/"
        },
        "id": "4pVc5wPAIDBR",
        "outputId": "6b07c396-18a7-4f87-ba67-e425a77d01a8"
      },
      "outputs": [
        {
          "output_type": "stream",
          "name": "stderr",
          "text": [
            "Epoch 1/20: 100%|██████████| 1283/1283 [04:07<00:00,  5.17batch/s]\n",
            "Validating Epoch 1/20: 100%|██████████| 164/164 [00:31<00:00,  5.14batch/s]\n"
          ]
        },
        {
          "output_type": "stream",
          "name": "stdout",
          "text": [
            "Best model saved with F1: 0.2292\n",
            "Epoch 1/20\n",
            "Train Loss: 0.3750, Train Accuracy: 0.3591\n",
            "Valid Loss: 0.3770, Valid Accuracy: 0.3463\n",
            "Validation F1 Score: 0.2292\n"
          ]
        },
        {
          "output_type": "stream",
          "name": "stderr",
          "text": [
            "Epoch 2/20: 100%|██████████| 1283/1283 [04:09<00:00,  5.14batch/s]\n",
            "Validating Epoch 2/20: 100%|██████████| 164/164 [00:31<00:00,  5.17batch/s]\n"
          ]
        },
        {
          "output_type": "stream",
          "name": "stdout",
          "text": [
            "Epoch 2/20\n",
            "Train Loss: 0.3541, Train Accuracy: 0.3702\n",
            "Valid Loss: 0.3797, Valid Accuracy: 0.3448\n",
            "Validation F1 Score: 0.2108\n"
          ]
        },
        {
          "output_type": "stream",
          "name": "stderr",
          "text": [
            "Epoch 3/20: 100%|██████████| 1283/1283 [04:09<00:00,  5.14batch/s]\n",
            "Validating Epoch 3/20: 100%|██████████| 164/164 [00:31<00:00,  5.25batch/s]\n"
          ]
        },
        {
          "output_type": "stream",
          "name": "stdout",
          "text": [
            "Best model saved with F1: 0.2689\n",
            "Epoch 3/20\n",
            "Train Loss: 0.3429, Train Accuracy: 0.3775\n",
            "Valid Loss: 0.3704, Valid Accuracy: 0.3611\n",
            "Validation F1 Score: 0.2689\n"
          ]
        },
        {
          "output_type": "stream",
          "name": "stderr",
          "text": [
            "Epoch 4/20: 100%|██████████| 1283/1283 [04:09<00:00,  5.15batch/s]\n",
            "Validating Epoch 4/20: 100%|██████████| 164/164 [00:31<00:00,  5.24batch/s]\n"
          ]
        },
        {
          "output_type": "stream",
          "name": "stdout",
          "text": [
            "Best model saved with F1: 0.2960\n",
            "Epoch 4/20\n",
            "Train Loss: 0.3299, Train Accuracy: 0.3830\n",
            "Valid Loss: 0.3685, Valid Accuracy: 0.3556\n",
            "Validation F1 Score: 0.2960\n"
          ]
        },
        {
          "output_type": "stream",
          "name": "stderr",
          "text": [
            "Epoch 5/20: 100%|██████████| 1283/1283 [04:09<00:00,  5.14batch/s]\n",
            "Validating Epoch 5/20: 100%|██████████| 164/164 [00:31<00:00,  5.26batch/s]\n"
          ]
        },
        {
          "output_type": "stream",
          "name": "stdout",
          "text": [
            "Epoch 5/20\n",
            "Train Loss: 0.3143, Train Accuracy: 0.3923\n",
            "Valid Loss: 0.3821, Valid Accuracy: 0.3599\n",
            "Validation F1 Score: 0.2716\n"
          ]
        },
        {
          "output_type": "stream",
          "name": "stderr",
          "text": [
            "Epoch 6/20: 100%|██████████| 1283/1283 [04:08<00:00,  5.16batch/s]\n",
            "Validating Epoch 6/20: 100%|██████████| 164/164 [00:31<00:00,  5.22batch/s]\n"
          ]
        },
        {
          "output_type": "stream",
          "name": "stdout",
          "text": [
            "Epoch 6/20\n",
            "Train Loss: 0.2927, Train Accuracy: 0.4128\n",
            "Valid Loss: 0.3946, Valid Accuracy: 0.3574\n",
            "Validation F1 Score: 0.2928\n"
          ]
        },
        {
          "output_type": "stream",
          "name": "stderr",
          "text": [
            "Epoch 7/20: 100%|██████████| 1283/1283 [04:09<00:00,  5.15batch/s]\n",
            "Validating Epoch 7/20: 100%|██████████| 164/164 [00:31<00:00,  5.20batch/s]\n"
          ]
        },
        {
          "output_type": "stream",
          "name": "stdout",
          "text": [
            "Epoch 7/20\n",
            "Train Loss: 0.2659, Train Accuracy: 0.4444\n",
            "Valid Loss: 0.4365, Valid Accuracy: 0.3431\n",
            "Validation F1 Score: 0.2925\n"
          ]
        },
        {
          "output_type": "stream",
          "name": "stderr",
          "text": [
            "Epoch 8/20: 100%|██████████| 1283/1283 [04:08<00:00,  5.16batch/s]\n",
            "Validating Epoch 8/20: 100%|██████████| 164/164 [00:31<00:00,  5.23batch/s]\n"
          ]
        },
        {
          "output_type": "stream",
          "name": "stdout",
          "text": [
            "Best model saved with F1: 0.3183\n",
            "Epoch 8/20\n",
            "Train Loss: 0.2352, Train Accuracy: 0.4926\n",
            "Valid Loss: 0.4579, Valid Accuracy: 0.3378\n",
            "Validation F1 Score: 0.3183\n"
          ]
        },
        {
          "output_type": "stream",
          "name": "stderr",
          "text": [
            "Epoch 9/20: 100%|██████████| 1283/1283 [04:09<00:00,  5.15batch/s]\n",
            "Validating Epoch 9/20: 100%|██████████| 164/164 [00:31<00:00,  5.19batch/s]\n"
          ]
        },
        {
          "output_type": "stream",
          "name": "stdout",
          "text": [
            "Epoch 9/20\n",
            "Train Loss: 0.2037, Train Accuracy: 0.5422\n",
            "Valid Loss: 0.5068, Valid Accuracy: 0.3427\n",
            "Validation F1 Score: 0.3019\n"
          ]
        },
        {
          "output_type": "stream",
          "name": "stderr",
          "text": [
            "Epoch 10/20: 100%|██████████| 1283/1283 [04:09<00:00,  5.15batch/s]\n",
            "Validating Epoch 10/20: 100%|██████████| 164/164 [00:31<00:00,  5.24batch/s]\n"
          ]
        },
        {
          "output_type": "stream",
          "name": "stdout",
          "text": [
            "Epoch 10/20\n",
            "Train Loss: 0.1774, Train Accuracy: 0.5913\n",
            "Valid Loss: 0.5313, Valid Accuracy: 0.3295\n",
            "Validation F1 Score: 0.3048\n"
          ]
        },
        {
          "output_type": "stream",
          "name": "stderr",
          "text": [
            "Epoch 11/20: 100%|██████████| 1283/1283 [04:09<00:00,  5.14batch/s]\n",
            "Validating Epoch 11/20: 100%|██████████| 164/164 [00:31<00:00,  5.24batch/s]\n"
          ]
        },
        {
          "output_type": "stream",
          "name": "stdout",
          "text": [
            "Best model saved with F1: 0.3232\n",
            "Epoch 11/20\n",
            "Train Loss: 0.1541, Train Accuracy: 0.6349\n",
            "Valid Loss: 0.5714, Valid Accuracy: 0.3211\n",
            "Validation F1 Score: 0.3232\n"
          ]
        },
        {
          "output_type": "stream",
          "name": "stderr",
          "text": [
            "Epoch 12/20: 100%|██████████| 1283/1283 [04:09<00:00,  5.14batch/s]\n",
            "Validating Epoch 12/20: 100%|██████████| 164/164 [00:31<00:00,  5.25batch/s]\n"
          ]
        },
        {
          "output_type": "stream",
          "name": "stdout",
          "text": [
            "Epoch 12/20\n",
            "Train Loss: 0.1347, Train Accuracy: 0.6745\n",
            "Valid Loss: 0.6202, Valid Accuracy: 0.3272\n",
            "Validation F1 Score: 0.3171\n"
          ]
        },
        {
          "output_type": "stream",
          "name": "stderr",
          "text": [
            "Epoch 13/20: 100%|██████████| 1283/1283 [04:09<00:00,  5.14batch/s]\n",
            "Validating Epoch 13/20: 100%|██████████| 164/164 [00:31<00:00,  5.27batch/s]\n"
          ]
        },
        {
          "output_type": "stream",
          "name": "stdout",
          "text": [
            "Epoch 13/20\n",
            "Train Loss: 0.1203, Train Accuracy: 0.7051\n",
            "Valid Loss: 0.6786, Valid Accuracy: 0.3307\n",
            "Validation F1 Score: 0.2826\n"
          ]
        },
        {
          "output_type": "stream",
          "name": "stderr",
          "text": [
            "Epoch 14/20: 100%|██████████| 1283/1283 [04:09<00:00,  5.15batch/s]\n",
            "Validating Epoch 14/20: 100%|██████████| 164/164 [00:31<00:00,  5.24batch/s]\n"
          ]
        },
        {
          "output_type": "stream",
          "name": "stdout",
          "text": [
            "Epoch 14/20\n",
            "Train Loss: 0.1066, Train Accuracy: 0.7377\n",
            "Valid Loss: 0.7249, Valid Accuracy: 0.3319\n",
            "Validation F1 Score: 0.2690\n"
          ]
        },
        {
          "output_type": "stream",
          "name": "stderr",
          "text": [
            "Epoch 15/20: 100%|██████████| 1283/1283 [04:09<00:00,  5.14batch/s]\n",
            "Validating Epoch 15/20: 100%|██████████| 164/164 [00:31<00:00,  5.20batch/s]\n"
          ]
        },
        {
          "output_type": "stream",
          "name": "stdout",
          "text": [
            "Epoch 15/20\n",
            "Train Loss: 0.0953, Train Accuracy: 0.7606\n",
            "Valid Loss: 0.7699, Valid Accuracy: 0.3258\n",
            "Validation F1 Score: 0.3015\n"
          ]
        },
        {
          "output_type": "stream",
          "name": "stderr",
          "text": [
            "Epoch 16/20: 100%|██████████| 1283/1283 [04:09<00:00,  5.14batch/s]\n",
            "Validating Epoch 16/20: 100%|██████████| 164/164 [00:31<00:00,  5.22batch/s]\n"
          ]
        },
        {
          "output_type": "stream",
          "name": "stdout",
          "text": [
            "Epoch 16/20\n",
            "Train Loss: 0.0867, Train Accuracy: 0.7830\n",
            "Valid Loss: 0.8384, Valid Accuracy: 0.3195\n",
            "Validation F1 Score: 0.2838\n"
          ]
        },
        {
          "output_type": "stream",
          "name": "stderr",
          "text": [
            "Epoch 17/20: 100%|██████████| 1283/1283 [04:09<00:00,  5.15batch/s]\n",
            "Validating Epoch 17/20: 100%|██████████| 164/164 [00:31<00:00,  5.16batch/s]\n"
          ]
        },
        {
          "output_type": "stream",
          "name": "stdout",
          "text": [
            "Epoch 17/20\n",
            "Train Loss: 0.0781, Train Accuracy: 0.8042\n",
            "Valid Loss: 0.8659, Valid Accuracy: 0.3219\n",
            "Validation F1 Score: 0.2848\n"
          ]
        },
        {
          "output_type": "stream",
          "name": "stderr",
          "text": [
            "Epoch 18/20: 100%|██████████| 1283/1283 [04:09<00:00,  5.13batch/s]\n",
            "Validating Epoch 18/20: 100%|██████████| 164/164 [00:31<00:00,  5.25batch/s]\n"
          ]
        },
        {
          "output_type": "stream",
          "name": "stdout",
          "text": [
            "Epoch 18/20\n",
            "Train Loss: 0.0716, Train Accuracy: 0.8189\n",
            "Valid Loss: 0.8892, Valid Accuracy: 0.3129\n",
            "Validation F1 Score: 0.3065\n"
          ]
        },
        {
          "output_type": "stream",
          "name": "stderr",
          "text": [
            "Epoch 19/20: 100%|██████████| 1283/1283 [04:09<00:00,  5.14batch/s]\n",
            "Validating Epoch 19/20: 100%|██████████| 164/164 [00:31<00:00,  5.21batch/s]\n"
          ]
        },
        {
          "output_type": "stream",
          "name": "stdout",
          "text": [
            "Epoch 19/20\n",
            "Train Loss: 0.0660, Train Accuracy: 0.8346\n",
            "Valid Loss: 0.8971, Valid Accuracy: 0.3022\n",
            "Validation F1 Score: 0.3065\n"
          ]
        },
        {
          "output_type": "stream",
          "name": "stderr",
          "text": [
            "Epoch 20/20: 100%|██████████| 1283/1283 [04:09<00:00,  5.14batch/s]\n",
            "Validating Epoch 20/20: 100%|██████████| 164/164 [00:31<00:00,  5.21batch/s]\n",
            "<ipython-input-16-dd1f3cf98bfb>:75: FutureWarning: You are using `torch.load` with `weights_only=False` (the current default value), which uses the default pickle module implicitly. It is possible to construct malicious pickle data which will execute arbitrary code during unpickling (See https://github.com/pytorch/pytorch/blob/main/SECURITY.md#untrusted-models for more details). In a future release, the default value for `weights_only` will be flipped to `True`. This limits the functions that could be executed during unpickling. Arbitrary objects will no longer be allowed to be loaded via this mode unless they are explicitly allowlisted by the user via `torch.serialization.add_safe_globals`. We recommend you start setting `weights_only=True` for any use case where you don't have full control of the loaded file. Please open an issue on GitHub for any issues related to this experimental feature.\n",
            "  model.load_state_dict(torch.load(save_path))\n"
          ]
        },
        {
          "output_type": "stream",
          "name": "stdout",
          "text": [
            "Epoch 20/20\n",
            "Train Loss: 0.0612, Train Accuracy: 0.8458\n",
            "Valid Loss: 0.9375, Valid Accuracy: 0.3183\n",
            "Validation F1 Score: 0.2851\n"
          ]
        },
        {
          "output_type": "stream",
          "name": "stderr",
          "text": [
            "Testing: 100%|██████████| 164/164 [00:32<00:00,  5.12batch/s]"
          ]
        },
        {
          "output_type": "stream",
          "name": "stdout",
          "text": [
            "\n",
            "Test Results\n",
            "Test Loss: 0.5728, Test Accuracy: 0.3135\n",
            "Test F1 Score: 0.3204\n",
            "Test AUC Score: 0.7069\n",
            "\n",
            "Class-wise Accuracy:\n",
            "Class Atelectasis: 0.7598\n",
            "Class Consolidation: 0.8948\n",
            "Class Effusion: 0.7949\n",
            "Class Infiltration: 0.6628\n",
            "Class Mass: 0.8824\n",
            "Class Nodule: 0.8888\n",
            "Class Pneumothorax: 0.9103\n",
            "\n",
            "Classification Report:\n",
            "               precision    recall  f1-score   support\n",
            "\n",
            "  Atelectasis       0.42      0.41      0.41      2184\n",
            "Consolidation       0.25      0.06      0.10       987\n",
            "     Effusion       0.59      0.62      0.60      2651\n",
            " Infiltration       0.47      0.42      0.44      3339\n",
            "         Mass       0.47      0.28      0.35      1182\n",
            "       Nodule       0.37      0.08      0.13      1102\n",
            " Pneumothorax       0.51      0.13      0.21       944\n",
            "\n",
            "    micro avg       0.49      0.36      0.42     12389\n",
            "    macro avg       0.44      0.28      0.32     12389\n",
            " weighted avg       0.46      0.36      0.39     12389\n",
            "  samples avg       0.27      0.24      0.23     12389\n",
            "\n"
          ]
        },
        {
          "output_type": "stream",
          "name": "stderr",
          "text": [
            "\n"
          ]
        }
      ],
      "source": [
        "from tqdm import tqdm\n",
        "from sklearn.metrics import f1_score\n",
        "\n",
        "num_epochs = 20\n",
        "best_valid_f1 = 0.0\n",
        "save_path = \"./resnet.pth\"\n",
        "\n",
        "for epoch in range(num_epochs):\n",
        "    model.train()\n",
        "    running_loss = 0.0\n",
        "    correct_preds = 0\n",
        "    total_preds = 0\n",
        "\n",
        "    # Training loop\n",
        "    for inputs, labels in tqdm(train_loader, desc=f\"Epoch {epoch+1}/{num_epochs}\", unit=\"batch\"):\n",
        "        inputs, labels = inputs.to(device), labels.to(device)\n",
        "        optimizer.zero_grad()\n",
        "        outputs = model(inputs)\n",
        "        loss = criterion(outputs, labels)\n",
        "        loss.backward()\n",
        "        optimizer.step()\n",
        "        running_loss += loss.item()\n",
        "\n",
        "        preds = (torch.sigmoid(outputs) > 0.5).float()\n",
        "        correct_preds += (preds == labels).all(dim=1).sum().item()\n",
        "        total_preds += preds.size(0)\n",
        "\n",
        "    train_loss = running_loss / len(train_loader)\n",
        "    train_accuracy = correct_preds / total_preds\n",
        "\n",
        "    model.eval()\n",
        "    valid_loss = 0.0\n",
        "    correct_preds = 0\n",
        "    total_preds = 0\n",
        "    all_preds = []\n",
        "    all_labels = []\n",
        "\n",
        "    with torch.no_grad():\n",
        "        for inputs, labels in tqdm(valid_loader, desc=f\"Validating Epoch {epoch+1}/{num_epochs}\", unit=\"batch\"):\n",
        "            inputs, labels = inputs.to(device), labels.to(device)\n",
        "            outputs = model(inputs)\n",
        "            loss = criterion(outputs, labels)\n",
        "            valid_loss += loss.item()\n",
        "\n",
        "            preds = (torch.sigmoid(outputs) > 0.5).float()\n",
        "            correct_preds += (preds == labels).all(dim=1).sum().item()\n",
        "            total_preds += preds.size(0)\n",
        "\n",
        "            all_preds.append(preds.cpu())\n",
        "            all_labels.append(labels.cpu())\n",
        "\n",
        "        valid_loss = valid_loss / len(valid_loader)\n",
        "        valid_accuracy = correct_preds / total_preds\n",
        "\n",
        "        all_preds = torch.cat(all_preds).numpy()\n",
        "        all_labels = torch.cat(all_labels).numpy()\n",
        "        f1 = f1_score(all_labels, all_preds, average='macro')\n",
        "\n",
        "        if f1 > best_valid_f1:\n",
        "            best_valid_f1 = f1\n",
        "            torch.save(model.state_dict(), save_path)\n",
        "            print(f\"Best model saved with F1: {f1:.4f}\")\n",
        "\n",
        "    print(f\"Epoch {epoch+1}/{num_epochs}\")\n",
        "    print(f\"Train Loss: {train_loss:.4f}, Train Accuracy: {train_accuracy:.4f}\")\n",
        "    print(f\"Valid Loss: {valid_loss:.4f}, Valid Accuracy: {valid_accuracy:.4f}\")\n",
        "    print(f\"Validation F1 Score: {f1:.4f}\")\n",
        "\n",
        "from sklearn.metrics import classification_report\n",
        "\n",
        "from sklearn.metrics import f1_score, roc_auc_score\n",
        "import numpy as np\n",
        "\n",
        "# --- Test Loop ---\n",
        "model.load_state_dict(torch.load(save_path))\n",
        "model.eval()\n",
        "test_loss = 0.0\n",
        "correct_preds = 0\n",
        "total_preds = 0\n",
        "all_preds = []\n",
        "all_labels = []\n",
        "all_probs = []\n",
        "\n",
        "class_correct = [0] * num_classes\n",
        "class_total = [0] * num_classes\n",
        "\n",
        "with torch.no_grad():\n",
        "    for inputs, labels in tqdm(test_loader, desc=\"Testing\", unit=\"batch\"):\n",
        "        inputs, labels = inputs.to(device), labels.to(device)\n",
        "        outputs = model(inputs)\n",
        "        loss = criterion(outputs, labels)\n",
        "        test_loss += loss.item()\n",
        "\n",
        "        preds = (torch.sigmoid(outputs) > 0.5).float()\n",
        "        correct_preds += (preds == labels).all(dim=1).sum().item()\n",
        "        total_preds += preds.size(0)\n",
        "\n",
        "        all_preds.append(preds.cpu())\n",
        "        all_labels.append(labels.cpu())\n",
        "\n",
        "        all_probs.append(torch.sigmoid(outputs).cpu())\n",
        "\n",
        "        for i in range(num_classes):\n",
        "            class_correct[i] += ((preds[:, i] == labels[:, i]).sum()).item()\n",
        "            class_total[i] += labels[:, i].size(0)\n",
        "\n",
        "test_loss = test_loss / len(test_loader)\n",
        "test_accuracy = correct_preds / total_preds\n",
        "\n",
        "all_preds = torch.cat(all_preds).numpy()\n",
        "all_labels = torch.cat(all_labels).numpy()\n",
        "test_f1 = f1_score(all_labels, all_preds, average='macro')  # Macro-Averaged F1 Score\n",
        "\n",
        "all_probs = torch.cat(all_probs).numpy()\n",
        "auc = roc_auc_score(all_labels, all_probs, average='macro', multi_class='ovr')  # Multi-class AUC (One-vs-Rest)\n",
        "\n",
        "class_accuracy = [class_correct[i] / class_total[i] if class_total[i] > 0 else 0 for i in range(num_classes)]\n",
        "\n",
        "report = classification_report(all_labels, all_preds, target_names=class_names, zero_division=0)\n",
        "\n",
        "print(\"\\nTest Results\")\n",
        "print(f\"Test Loss: {test_loss:.4f}, Test Accuracy: {test_accuracy:.4f}\")\n",
        "print(f\"Test F1 Score: {test_f1:.4f}\")\n",
        "print(f\"Test AUC Score: {auc:.4f}\")\n",
        "\n",
        "print(\"\\nClass-wise Accuracy:\")\n",
        "for i, accuracy in enumerate(class_accuracy):\n",
        "    print(f\"Class {class_names[i]}: {accuracy:.4f}\")\n",
        "\n",
        "print(\"\\nClassification Report:\")\n",
        "print(report)\n"
      ]
    },
    {
      "cell_type": "code",
      "execution_count": 17,
      "metadata": {
        "colab": {
          "base_uri": "https://localhost:8080/"
        },
        "id": "NM0n6uv7IDBS",
        "outputId": "497a24c0-5fb8-480a-8df0-35940de7e53d"
      },
      "outputs": [
        {
          "output_type": "stream",
          "name": "stderr",
          "text": [
            "<ipython-input-17-863af0555f13>:2: FutureWarning: You are using `torch.load` with `weights_only=False` (the current default value), which uses the default pickle module implicitly. It is possible to construct malicious pickle data which will execute arbitrary code during unpickling (See https://github.com/pytorch/pytorch/blob/main/SECURITY.md#untrusted-models for more details). In a future release, the default value for `weights_only` will be flipped to `True`. This limits the functions that could be executed during unpickling. Arbitrary objects will no longer be allowed to be loaded via this mode unless they are explicitly allowlisted by the user via `torch.serialization.add_safe_globals`. We recommend you start setting `weights_only=True` for any use case where you don't have full control of the loaded file. Please open an issue on GitHub for any issues related to this experimental feature.\n",
            "  model.load_state_dict(torch.load(save_path))  # 저장된 최고 모델 로드\n",
            "Testing: 100%|██████████| 164/164 [00:31<00:00,  5.23batch/s]"
          ]
        },
        {
          "output_type": "stream",
          "name": "stdout",
          "text": [
            "\n",
            "Test Results\n",
            "Test Loss: 0.5728, Test Accuracy: 0.3135\n",
            "Test F1 Score: 0.3204\n",
            "Test AUC Score: 0.7069\n",
            "\n",
            "Class-wise Accuracy:\n",
            "Class Atelectasis: 0.7598\n",
            "Class Consolidation: 0.8948\n",
            "Class Effusion: 0.7949\n",
            "Class Infiltration: 0.6628\n",
            "Class Mass: 0.8824\n",
            "Class Nodule: 0.8888\n",
            "Class Pneumothorax: 0.9103\n",
            "\n",
            "Classification Report:\n",
            "               precision    recall  f1-score   support\n",
            "\n",
            "  Atelectasis       0.42      0.41      0.41      2184\n",
            "Consolidation       0.25      0.06      0.10       987\n",
            "     Effusion       0.59      0.62      0.60      2651\n",
            " Infiltration       0.47      0.42      0.44      3339\n",
            "         Mass       0.47      0.28      0.35      1182\n",
            "       Nodule       0.37      0.08      0.13      1102\n",
            " Pneumothorax       0.51      0.13      0.21       944\n",
            "\n",
            "    micro avg       0.49      0.36      0.42     12389\n",
            "    macro avg       0.44      0.28      0.32     12389\n",
            " weighted avg       0.46      0.36      0.39     12389\n",
            "  samples avg       0.27      0.24      0.23     12389\n",
            "\n"
          ]
        },
        {
          "output_type": "stream",
          "name": "stderr",
          "text": [
            "\n"
          ]
        }
      ],
      "source": [
        "# --- Test Loop ---\n",
        "model.load_state_dict(torch.load(save_path))  # 저장된 최고 모델 로드\n",
        "model.eval()  # 평가 모드로 설정\n",
        "test_loss = 0.0\n",
        "correct_preds = 0\n",
        "total_preds = 0\n",
        "all_preds = []\n",
        "all_labels = []\n",
        "all_probs = []  # AUC 계산을 위한 확률 값 저장\n",
        "\n",
        "# 클래스별 정확도 계산을 위한 변수\n",
        "class_correct = [0] * num_classes  # 각 클래스별 맞은 예측 수\n",
        "class_total = [0] * num_classes    # 각 클래스별 전체 예측 수\n",
        "\n",
        "with torch.no_grad():\n",
        "    for inputs, labels in tqdm(test_loader, desc=\"Testing\", unit=\"batch\"):\n",
        "        inputs, labels = inputs.to(device), labels.to(device)\n",
        "        outputs = model(inputs)\n",
        "        loss = criterion(outputs, labels)\n",
        "        test_loss += loss.item()\n",
        "\n",
        "        # 예측값 계산 (sigmoid thresholding)\n",
        "        preds = (torch.sigmoid(outputs) > 0.5).float()\n",
        "        correct_preds += (preds == labels).all(dim=1).sum().item()\n",
        "        total_preds += preds.size(0)\n",
        "\n",
        "        # F1 Score 계산을 위해 모든 예측과 레이블 저장\n",
        "        all_preds.append(preds.cpu())\n",
        "        all_labels.append(labels.cpu())\n",
        "\n",
        "        # AUC 계산을 위해 확률 값 저장 (sigmoid 출력값 사용)\n",
        "        all_probs.append(torch.sigmoid(outputs).cpu())\n",
        "\n",
        "        # 클래스별 정확도 계산\n",
        "        for i in range(num_classes):\n",
        "            class_correct[i] += ((preds[:, i] == labels[:, i]).sum()).item()  # 각 클래스별 맞은 예측\n",
        "            class_total[i] += labels[:, i].size(0)  # 각 클래스별 전체 예측 수\n",
        "\n",
        "# 평균 손실과 정확도 계산\n",
        "test_loss = test_loss / len(test_loader)\n",
        "test_accuracy = correct_preds / total_preds\n",
        "\n",
        "# F1 Score 계산\n",
        "all_preds = torch.cat(all_preds).numpy()\n",
        "all_labels = torch.cat(all_labels).numpy()\n",
        "test_f1 = f1_score(all_labels, all_preds, average='macro')  # Macro-Averaged F1 Score\n",
        "\n",
        "# AUC 계산\n",
        "all_probs = torch.cat(all_probs).numpy()\n",
        "auc = roc_auc_score(all_labels, all_probs, average='macro', multi_class='ovr')  # Multi-class AUC (One-vs-Rest)\n",
        "\n",
        "# 클래스별 정확도 계산\n",
        "class_accuracy = [class_correct[i] / class_total[i] if class_total[i] > 0 else 0 for i in range(num_classes)]\n",
        "\n",
        "# Classification Report로 클래스별 지표 출력\n",
        "report = classification_report(all_labels, all_preds, target_names=class_names, zero_division=0)  # `class_names`는 클래스 이름 리스트\n",
        "\n",
        "# 출력\n",
        "print(\"\\nTest Results\")\n",
        "print(f\"Test Loss: {test_loss:.4f}, Test Accuracy: {test_accuracy:.4f}\")\n",
        "print(f\"Test F1 Score: {test_f1:.4f}\")\n",
        "print(f\"Test AUC Score: {auc:.4f}\")  # AUC 출력\n",
        "\n",
        "# 클래스별 정확도 출력\n",
        "print(\"\\nClass-wise Accuracy:\")\n",
        "for i, accuracy in enumerate(class_accuracy):\n",
        "    print(f\"Class {class_names[i]}: {accuracy:.4f}\")\n",
        "\n",
        "print(\"\\nClassification Report:\")\n",
        "print(report)"
      ]
    }
  ],
  "metadata": {
    "kernelspec": {
      "display_name": "kimjk",
      "language": "python",
      "name": "kimjk"
    },
    "language_info": {
      "codemirror_mode": {
        "name": "ipython",
        "version": 3
      },
      "file_extension": ".py",
      "mimetype": "text/x-python",
      "name": "python",
      "nbconvert_exporter": "python",
      "pygments_lexer": "ipython3",
      "version": "3.8.19"
    },
    "colab": {
      "provenance": [],
      "machine_shape": "hm",
      "gpuType": "L4"
    },
    "accelerator": "GPU"
  },
  "nbformat": 4,
  "nbformat_minor": 0
}